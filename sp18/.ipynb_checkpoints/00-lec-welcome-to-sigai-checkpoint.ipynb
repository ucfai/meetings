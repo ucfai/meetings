{
 "cells": [
  {
   "cell_type": "code",
   "execution_count": 1,
   "metadata": {
    "slideshow": {
     "slide_type": "skip"
    }
   },
   "outputs": [],
   "source": [
    "from IPython.display import HTML"
   ]
  },
  {
   "cell_type": "markdown",
   "metadata": {
    "slideshow": {
     "slide_type": "slide"
    }
   },
   "source": [
    "# Welcome to SIGAI\n",
    "---"
   ]
  },
  {
   "cell_type": "markdown",
   "metadata": {
    "slideshow": {
     "slide_type": "fragment"
    }
   },
   "source": [
    "## Spring 2018"
   ]
  },
  {
   "cell_type": "markdown",
   "metadata": {
    "slideshow": {
     "slide_type": "fragment"
    }
   },
   "source": [
    "### Introductions &amp; History of Artificial Intelligence"
   ]
  },
  {
   "cell_type": "markdown",
   "metadata": {
    "slideshow": {
     "slide_type": "slide"
    }
   },
   "source": [
    "# Agenda\n",
    "---"
   ]
  },
  {
   "cell_type": "markdown",
   "metadata": {
    "slideshow": {
     "slide_type": "fragment"
    }
   },
   "source": [
    "1. Introductions\n",
    "- Structure of <span class=\"ucfsigai-brand\"></span>\n",
    "- <span class=\"text-gold\">Lecture:</span> The History of Artificial Intelligence\n",
    "- Resources"
   ]
  },
  {
   "cell_type": "markdown",
   "metadata": {
    "slideshow": {
     "slide_type": "slide"
    }
   },
   "source": [
    "# Coordinators\n",
    "---"
   ]
  },
  {
   "cell_type": "code",
   "execution_count": 55,
   "metadata": {
    "scrolled": false,
    "slideshow": {
     "slide_type": "fragment"
    }
   },
   "outputs": [
    {
     "data": {
      "text/html": [
       "<div class=\"row\">\n",
       "  <div class=\"col-lg-4 col-md-6 col-12 mt-3 mb-3 d-flex\">\n",
       "    <div class=\"card bg-dark\" style=\"flex: 1;\">\n",
       "      <div class=\"row\">\n",
       "        <div class=\"col-4 p-0\">\n",
       "          <img class=\"card-img-top\" src=\"https://avatars.githubusercontent.com/ionlights\" alt=\"$name\">\n",
       "        </div>\n",
       "        <div class=\"col-8 d-flex\" style=\"flex-direction: column; justify-content: center;\">\n",
       "          <h4 class=\"card-title    mb-2 mt-0\"> John Muchovej </h4>\n",
       "          <h6 class=\"card-subtitle text-muted mt-1\"> Interim Director </h6>\n",
       "          <h6 class=\"card-subtitle mt-1\"> <i class=\"fa fa-github\"> </i> @ionlights </h6>\n",
       "        </div>\n",
       "      </div>\n",
       "    </div>\n",
       "  </div>\n",
       "  <div class=\"col-lg-4 col-md-6 col-12 mt-3 mb-3 d-flex\">\n",
       "    <div class=\"card bg-dark\" style=\"flex: 1;\">\n",
       "      <div class=\"row\">\n",
       "        <div class=\"col-4 p-0\">\n",
       "          <img class=\"card-img-top\" src=\"https://avatars.githubusercontent.com/thedibaccle\" alt=\"$name\">\n",
       "        </div>\n",
       "        <div class=\"col-8 d-flex\" style=\"flex-direction: column; justify-content: center;\">\n",
       "          <h4 class=\"card-title    mb-2 mt-0\"> Richard DiBacco </h4>\n",
       "          <h6 class=\"card-subtitle text-muted mt-1\"> Coordinator </h6>\n",
       "          <h6 class=\"card-subtitle mt-1\"> <i class=\"fa fa-github\"> </i> @thedibaccle </h6>\n",
       "        </div>\n",
       "      </div>\n",
       "    </div>\n",
       "  </div>\n",
       "</div>\n"
      ],
      "text/plain": [
       "<IPython.core.display.HTML object>"
      ]
     },
     "execution_count": 55,
     "metadata": {},
     "output_type": "execute_result"
    }
   ],
   "source": [
    "HTML(\"coordinators.html\")"
   ]
  },
  {
   "cell_type": "code",
   "execution_count": 56,
   "metadata": {
    "slideshow": {
     "slide_type": "slide"
    }
   },
   "outputs": [
    {
     "data": {
      "text/html": [
       "<div id=\"ucfsigai-mission\">\n",
       "  <p>\n",
       "    <strong class=\"text-gold\">Mission:</strong>\n",
       "    To foster a hotspot for the next generation of intelligence researchers and engineers at UCF.\n",
       "  </p>\n",
       "</div>\n"
      ],
      "text/plain": [
       "<IPython.core.display.HTML object>"
      ]
     },
     "execution_count": 56,
     "metadata": {},
     "output_type": "execute_result"
    }
   ],
   "source": [
    "HTML(\"../html/mission.html\")"
   ]
  },
  {
   "cell_type": "code",
   "execution_count": 59,
   "metadata": {
    "scrolled": false,
    "slideshow": {
     "slide_type": "slide"
    }
   },
   "outputs": [
    {
     "data": {
      "text/html": [
       "<div class=\"row\" id=\"syllabus\">\n",
       "  <div class=\"table-responsive-md\">\n",
       "    <table class=\"table table-dark\">\n",
       "      <colgroup>\n",
       "        <col span=\"1\" style=\"width: 12%;\">\n",
       "        <col span=\"1\" style=\"width: 12%;\">\n",
       "        <col span=\"1\" style=\"min-width: 94px;\">\n",
       "        <col span=\"1\" style=\"width: 24%;\">\n",
       "      </colgroup>\n",
       "      <tbody>\n",
       "        <tr class=\"syllabus-unit-title\">\n",
       "          <td colspan=\"4\">Unit 0: Overview </td>\n",
       "        </tr>\n",
       "        <tr>\n",
       "          <td> Lecture </td>\n",
       "          <td> Jan 24 </td>\n",
       "          <td> Welcome to <span class=\"ucfsigai-brand\"></span> </td>\n",
       "          <td> <a href=\"https://github.com/ionlights\">@ionlights</a>, <a href=\"https://github.com/thedibaccle\">@thedibaccle</a> </td>\n",
       "        </tr>\n",
       "        <tr>\n",
       "          <td> Lecture </td>\n",
       "          <td> Jan 31 </td>\n",
       "          <td> The Central Problem of AI </td>\n",
       "          <td> <a href=\"https://github.com/ionlights\">@ionlights</a>, <a href=\"https://github.com/thedibaccle\">@thedibaccle</a> </td>\n",
       "        </tr>\n",
       "        <tr class=\"syllabus-unit-title\">\n",
       "          <td colspan=\"4\">Unit 1: Vanilla Neural Networks (ANNs) </td>\n",
       "        </tr>\n",
       "        <tr>\n",
       "          <td> Lecture </td>\n",
       "          <td> Feb 07 </td>\n",
       "          <td> An Intro to Neural Networks </td>\n",
       "          <td> <a href=\"https://github.com/ionlights\">@ionlights</a> </td>\n",
       "        </tr>\n",
       "        <tr>\n",
       "          <td> Workshop </td>\n",
       "          <td> Feb 14 </td>\n",
       "          <td> Building an Extensible Neural Networks </td>\n",
       "          <td> <a href=\"https://github.com/ionlights\">@ionlights</a> </td>\n",
       "        </tr>\n",
       "        <tr class=\"syllabus-unit-title\">\n",
       "          <td colspan=\"4\">Unit 2: Convolutional Neural Networks (CNNs) </td>\n",
       "        </tr>\n",
       "        <tr>\n",
       "          <td> Lecture </td>\n",
       "          <td> Feb 21 </td>\n",
       "          <td> Deconvoluting Neural Networks </td>\n",
       "          <td> <a href=\"https://github.com/thedibaccle\">@thedibaccle</a> </td>\n",
       "        </tr>\n",
       "        <tr>\n",
       "          <td> Workshop </td>\n",
       "          <td> Feb 28 </td>\n",
       "          <td> Convolving a Neural Network </td>\n",
       "          <td> <a href=\"https://github.com/thedibaccle\">@thedibaccle</a> </td>\n",
       "        </tr>\n",
       "        <tr>\n",
       "          <td> Guest </td>\n",
       "          <td> Mar 07 </td>\n",
       "          <td> &lt;some_title&gt; </td>\n",
       "          <td> <a href=\"http://cs.ucf.edu/\">Dr. Someone</a> </td>\n",
       "        </tr>\n",
       "        <tr class=\"syllabus-unit-title\">\n",
       "          <td colspan=\"4\">Unit 3: Recurrent Neural Networks (RNNs) </td>\n",
       "        </tr>\n",
       "        <tr>\n",
       "          <td> Lecture </td>\n",
       "          <td> Mar 21 </td>\n",
       "          <td> Seriously, Neural Networks (are dope) </td>\n",
       "          <td> <a href=\"https://github.com/ionlights\">@ionlights</a> </td>\n",
       "        </tr>\n",
       "        <tr>\n",
       "          <td> Workshop </td>\n",
       "          <td> Mar 28 </td>\n",
       "          <td> Do We Need Linus Torvolds? </td>\n",
       "          <td> <a href=\"https://github.com/ionlights\">@ionlights</a> </td>\n",
       "        </tr>\n",
       "        <tr class=\"syllabus-unit-title\">\n",
       "          <td colspan=\"4\">Unit 4: Reinforcement Learning (RL) </td>\n",
       "        </tr>\n",
       "        <tr>\n",
       "          <td> Lecture </td>\n",
       "          <td> Apr 04 </td>\n",
       "          <td> Can Machines Learn From Experience? (RL P1) </td>\n",
       "          <td> <a href=\"https://github.com/ionlights\">@ionlights</a> </td>\n",
       "        </tr>\n",
       "        <tr>\n",
       "          <td> Lecture </td>\n",
       "          <td> Apr 11 </td>\n",
       "          <td> Maybe They Can (RL P2) </td>\n",
       "          <td> <a href=\"https://github.com/thedibaccle\">@thedibaccle</a> </td>\n",
       "        </tr>\n",
       "        <tr>\n",
       "          <td> Workshop </td>\n",
       "          <td> Apr 18 </td>\n",
       "          <td> Building a Markov Decision Process </td>\n",
       "          <td> <a href=\"https://github.com/ionlights\">@ionlights</a> </td>\n",
       "        </tr>\n",
       "      <tbody>\n",
       "    </table>\n",
       "  </div>\n",
       "</div>\n"
      ],
      "text/plain": [
       "<IPython.core.display.HTML object>"
      ]
     },
     "execution_count": 59,
     "metadata": {},
     "output_type": "execute_result"
    }
   ],
   "source": [
    "HTML(\"syllabus.html\")"
   ]
  }
 ],
 "metadata": {
  "authors": [
   {
    "github": "ionlights",
    "name": "John Muchovej"
   },
   {
    "github": "thedibaccle",
    "name": "Richard DiBacco"
   }
  ],
  "celltoolbar": "Slideshow",
  "kernelspec": {
   "display_name": "Python 3",
   "language": "python",
   "name": "python3"
  },
  "language_info": {
   "codemirror_mode": {
    "name": "ipython",
    "version": 3
   },
   "file_extension": ".py",
   "mimetype": "text/x-python",
   "name": "python",
   "nbconvert_exporter": "python",
   "pygments_lexer": "ipython3",
   "version": "3.5.2"
  },
  "livereveal": {
   "autolaunch": true,
   "footer": "<footer id=\"slide_foot\">\n  <div  id=\"slide_foot-brand\">\n    <span class=\"ucfsigai-brand\"></span>\n  </div>\n  <div  id=\"slide_foot-unit\">\n    <span class=\"text-gold\"> U0: </span>&nbsp;<span class=\"text-white\"> Intros </span>\n  </div>\n  <a    id=\"slide_foot-attend\" href=\"https://goo.gl/\">\n      <span class=\"text-white\"> https://goo.gl/ </span>\n  </a>\n  <div  id=\"slide_foot-date\">\n    <span class=\"text-white\"> Jan 17, 2018 </span>\n  </div>\n</footer>\n",
   "scroll": true
  }
 },
 "nbformat": 4,
 "nbformat_minor": 2
}
