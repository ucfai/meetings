{
 "cells": [
  {
   "cell_type": "markdown",
   "metadata": {
    "slideshow": {
     "slide_type": "slide"
    }
   },
   "source": [
    "# Welcome back to SIGAI\n",
    "\n",
    "## - Spring 2018"
   ]
  },
  {
   "cell_type": "markdown",
   "metadata": {
    "slideshow": {
     "slide_type": "slide"
    }
   },
   "source": [
    "# Agenda"
   ]
  },
  {
   "cell_type": "markdown",
   "metadata": {
    "slideshow": {
     "slide_type": "fragment"
    }
   },
   "source": [
    "1. Administrative Meanderings\n",
    "   - About Lectures/Workshops\n",
    "   - Coordinator Elections\n",
    "   - Awesomesauce News\n",
    "2. What is <span class=\"ucfsigai-brand\"></span>?\n",
    "3. The Beauty of our Newfangled Search Algorithms"
   ]
  },
  {
   "cell_type": "markdown",
   "metadata": {
    "slideshow": {
     "slide_type": "slide"
    }
   },
   "source": [
    "# Administrative Meanderings"
   ]
  },
  {
   "cell_type": "markdown",
   "metadata": {
    "slideshow": {
     "slide_type": "subslide"
    }
   },
   "source": [
    "## About the Lectures & Workshops"
   ]
  },
  {
   "cell_type": "markdown",
   "metadata": {
    "slideshow": {
     "slide_type": "fragment"
    }
   },
   "source": [
    "1. It's mandatory that you have [Docker](https://store.docker.com/search?type=edition&offering=community).\n",
    "  - We'll be using this for the Lectures and Workshops.\n",
    "  - It's set it and forget it.\n",
    "  - In a few minutes, we'll go over grabbing the [GitHub repository](https://github.com/ucfsigai/meetings/) and getting the [Docker image](https://hub.docker.com/r/ucfsigai/meetings/).\n",
    "2. We're shooting for no longer than 90 minutes, so we need all technical issues resolved beforehand. Andrew, John, and Richard will be staying later to help with most issues."
   ]
  },
  {
   "cell_type": "markdown",
   "metadata": {
    "slideshow": {
     "slide_type": "subslide"
    }
   },
   "source": [
    "## Coordinator Elections"
   ]
  },
  {
   "cell_type": "markdown",
   "metadata": {
    "slideshow": {
     "slide_type": "fragment"
    }
   },
   "source": [
    "- We're finishing up the process of becoming an RSO (Registered Student Organization).\n",
    "- Around March, we plan to have elections for the 2018-2019 academic year.\n",
    "- We'll have 3 coordinators, one of which will be the \"Director\"."
   ]
  },
  {
   "cell_type": "markdown",
   "metadata": {
    "slideshow": {
     "slide_type": "fragment"
    }
   },
   "source": [
    "### Roles:\n",
    "- Coordinator:\n",
    "  - You're responsible for lecturing for at least 1 entire unit.\n",
    "  - It's about a 10-15 hour commitment, per week &ndash; depending on a variety of factors.\n",
    "  - It's preferable if you do research, or work in AI; but overall, being passionate and acting on that is really enough.\n",
    "- Director:\n",
    "  - Everything a Coordinator is responsible for.\n",
    "  - You've previously been a Coordinator.\n",
    "  - You haven't been a Director in the past year.\n",
    "  - You're able to mentor Coordinators &ndash; take a Coordinator's passion and such, now bump it up an order of magnitude. That's where you should be.\n",
    "  - Remember, you're just a coordinator, but you can `sudo`.\n",
    "  - You're also the main point of contact with outside entities."
   ]
  },
  {
   "cell_type": "markdown",
   "metadata": {
    "slideshow": {
     "slide_type": "subslide"
    }
   },
   "source": [
    "## The Awesomesauce"
   ]
  },
  {
   "cell_type": "markdown",
   "metadata": {
    "slideshow": {
     "slide_type": "fragment"
    }
   },
   "source": [
    "- The CBMM at MIT (one of our sponsors) is asking that Coordinators build a course.\n",
    "- Being a Coordinator offers the ability to \\[potentially\\] contribute to this."
   ]
  },
  {
   "cell_type": "markdown",
   "metadata": {
    "slideshow": {
     "slide_type": "slide"
    }
   },
   "source": [
    "# What is <span class=\"ucfsigai-brand\"></span>?"
   ]
  },
  {
   "cell_type": "markdown",
   "metadata": {
    "slideshow": {
     "slide_type": "fragment"
    }
   },
   "source": [
    "We're a group of students that care about Intelligence."
   ]
  },
  {
   "cell_type": "markdown",
   "metadata": {
    "slideshow": {
     "slide_type": "fragment"
    }
   },
   "source": [
    "We're a group of students that care about research."
   ]
  },
  {
   "cell_type": "markdown",
   "metadata": {
    "slideshow": {
     "slide_type": "subslide"
    }
   },
   "source": [
    "## Some Core Tenants:"
   ]
  },
  {
   "cell_type": "markdown",
   "metadata": {
    "slideshow": {
     "slide_type": "fragment"
    }
   },
   "source": [
    "- Community is important.\n",
    "- We don't know everything.\n",
    "- Students should teach students."
   ]
  },
  {
   "cell_type": "markdown",
   "metadata": {
    "slideshow": {
     "slide_type": "slide"
    }
   },
   "source": [
    "# We're also math geeks. Because we have to be."
   ]
  },
  {
   "cell_type": "markdown",
   "metadata": {
    "slideshow": {
     "slide_type": "fragment"
    }
   },
   "source": [
    "Here's some keywords, and notation, that we'll be dealing with during the semester. **If you don't recognize these. We need to know. Otherwise you'll be lost.**\n",
    "\n",
    "- Derivatives ($\\frac{d}{dx} x^2$)\n",
    "- Partial Derivatives ($\\frac{\\partial Q}{\\partial t}$)\n",
    "- Vectors\n",
    "  - Addition ($ \\vec{a} + \\vec{b} = \\vec{c} $)\n",
    "  - Multiplication ($ \\vec{a} \\cdot \\vec{b} = \\vec{c} $)\n",
    "- Matrices (not Keanu)\n",
    "  - Dot Product ($ \\textbf{A} \\cdot \\textbf{B} = \\textbf{C} $)\n",
    "  - Cross Product ($ \\textbf{A} \\times \\textbf{B} = \\textbf{C} $)\n",
    "  - Transposition ($ \\textbf{A}^\\top $)\n"
   ]
  },
  {
   "cell_type": "code",
   "execution_count": null,
   "metadata": {},
   "outputs": [],
   "source": []
  },
  {
   "cell_type": "markdown",
   "metadata": {
    "slideshow": {
     "slide_type": "slide"
    }
   },
   "source": [
    "# On to the Lecture!"
   ]
  },
  {
   "cell_type": "code",
   "execution_count": null,
   "metadata": {},
   "outputs": [],
   "source": []
  }
 ],
 "metadata": {
  "authors": [
   {
    "github": "ionlights",
    "name": "John Muchovej"
   },
   {
    "github": "thedibaccle",
    "name": "Richard DiBacco"
   }
  ],
  "celltoolbar": "Slideshow",
  "hide_input": false,
  "kernelspec": {
   "display_name": "Python 3",
   "language": "python",
   "name": "python3"
  },
  "language_info": {
   "codemirror_mode": {
    "name": "ipython",
    "version": 3
   },
   "file_extension": ".py",
   "mimetype": "text/x-python",
   "name": "python",
   "nbconvert_exporter": "python",
   "pygments_lexer": "ipython3",
   "version": "3.5.2"
  },
  "livereveal": {
   "footer": "<footer id=\"slide_foot\">\n  <div  id=\"slide_foot-brand\">\n    <span class=\"ucfsigai-brand\"></span>\n  </div>\n  <div  id=\"slide_foot-unit\">\n    <span class=\"text-gold\"> U0: </span>&nbsp;<span class=\"text-white\"> Overview </span>\n  </div>\n  <a    id=\"slide_foot-attend\" href=\"https://goo.gl/\">\n      <span class=\"text-white\"> https://goo.gl/ </span>\n  </a>\n  <div  id=\"slide_foot-date\">\n    <span class=\"text-white\"> Jan 25, 2018 </span>\n  </div>\n</footer>\n",
   "scroll": true
  }
 },
 "nbformat": 4,
 "nbformat_minor": 2
}
