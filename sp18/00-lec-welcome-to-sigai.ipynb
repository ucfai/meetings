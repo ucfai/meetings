{
 "cells": [
  {
   "cell_type": "code",
   "execution_count": 2,
   "metadata": {
    "slideshow": {
     "slide_type": "skip"
    }
   },
   "outputs": [],
   "source": [
    "from IPython.display import HTML"
   ]
  },
  {
   "cell_type": "markdown",
   "metadata": {
    "slideshow": {
     "slide_type": "slide"
    }
   },
   "source": [
    "# Welcome to SIGAI\n",
    "---"
   ]
  },
  {
   "cell_type": "markdown",
   "metadata": {
    "slideshow": {
     "slide_type": "fragment"
    }
   },
   "source": [
    "## Spring 2018"
   ]
  },
  {
   "cell_type": "markdown",
   "metadata": {
    "slideshow": {
     "slide_type": "fragment"
    }
   },
   "source": [
    "### Introductions &amp; History of Artificial Intelligence"
   ]
  },
  {
   "cell_type": "markdown",
   "metadata": {
    "slideshow": {
     "slide_type": "slide"
    }
   },
   "source": [
    "# Agenda\n",
    "---"
   ]
  },
  {
   "cell_type": "markdown",
   "metadata": {
    "slideshow": {
     "slide_type": "fragment"
    }
   },
   "source": [
    "1. Introductions\n",
    "- Structure of <span class=\"ucfsigai-brand\"></span>\n",
    "- <span class=\"text-gold\">Lecture:</span> The History of Artificial Intelligence\n",
    "- Resources"
   ]
  },
  {
   "cell_type": "markdown",
   "metadata": {
    "slideshow": {
     "slide_type": "slide"
    }
   },
   "source": [
    "# Coordinators\n",
    "---"
   ]
  },
  {
   "cell_type": "code",
   "execution_count": 3,
   "metadata": {
    "scrolled": false,
    "slideshow": {
     "slide_type": "fragment"
    }
   },
   "outputs": [
    {
     "data": {
      "text/html": [
       "<h1 style=\"text-align: center;\"> Coordinators </h1> <br> \n",
       "<div class=\"row\"> \n",
       "<div class=\"col-lg-4 col-md-6 col-12 mt-3 mb-3 d-flex\">\n",
       "  <div class=\"card bg-dark\" style=\"flex: 1;\">\n",
       "    <div class=\"row\">\n",
       "      <div class=\"col-4 p-0\">\n",
       "        <img class=\"card-img-top\" src=\"https://avatars.githubusercontent.com/ionlights\" alt=\"$name\">\n",
       "      </div>\n",
       "      <div class=\"col-8 d-flex\" style=\"flex-direction: column; justify-content: center;\">\n",
       "        <h4 class=\"card-title    mb-2 mt-0\"> John Muchovej </h4>\n",
       "        <h6 class=\"card-subtitle text-muted mt-1\"> Interim Director </h6>\n",
       "        <h6 class=\"card-subtitle mt-1\"> <i class=\"fa fa-github\"> </i> @ionlights </h6>\n",
       "      </div>\n",
       "    </div>\n",
       "  </div>\n",
       "</div>\n",
       "\n",
       "<div class=\"col-lg-4 col-md-6 col-12 mt-3 mb-3 d-flex\">\n",
       "  <div class=\"card bg-dark\" style=\"flex: 1;\">\n",
       "    <div class=\"row\">\n",
       "      <div class=\"col-4 p-0\">\n",
       "        <img class=\"card-img-top\" src=\"https://avatars.githubusercontent.com/thedibaccle\" alt=\"$name\">\n",
       "      </div>\n",
       "      <div class=\"col-8 d-flex\" style=\"flex-direction: column; justify-content: center;\">\n",
       "        <h4 class=\"card-title    mb-2 mt-0\"> Richard DiBacco </h4>\n",
       "        <h6 class=\"card-subtitle text-muted mt-1\"> Coordinator </h6>\n",
       "        <h6 class=\"card-subtitle mt-1\"> <i class=\"fa fa-github\"> </i> @thedibaccle </h6>\n",
       "      </div>\n",
       "    </div>\n",
       "  </div>\n",
       "</div>\n",
       "</div>"
      ],
      "text/plain": [
       "<IPython.core.display.HTML object>"
      ]
     },
     "execution_count": 3,
     "metadata": {},
     "output_type": "execute_result"
    }
   ],
   "source": [
    "HTML(\"coordinators.html\")"
   ]
  },
  {
   "cell_type": "code",
   "execution_count": 4,
   "metadata": {
    "slideshow": {
     "slide_type": "slide"
    }
   },
   "outputs": [
    {
     "data": {
      "text/html": [
       "<div id=\"ucfsigai-mission\">\n",
       "  <p>\n",
       "    <strong class=\"text-gold\">Mission:</strong>\n",
       "    To foster a hotspot for the next generation of intelligence researchers and engineers at UCF.\n",
       "  </p>\n",
       "</div>\n"
      ],
      "text/plain": [
       "<IPython.core.display.HTML object>"
      ]
     },
     "execution_count": 4,
     "metadata": {},
     "output_type": "execute_result"
    }
   ],
   "source": [
    "HTML(\"../html/mission.html\")"
   ]
  },
  {
   "cell_type": "code",
   "execution_count": 5,
   "metadata": {
    "scrolled": false,
    "slideshow": {
     "slide_type": "slide"
    }
   },
   "outputs": [
    {
     "data": {
      "text/html": [
       "<div class=\"row\" id=\"syllabus\">\n",
       "  <div class=\"table-responsive-md\">\n",
       "    <table class=\"table table-dark\">\n",
       "      <colgroup>\n",
       "        <col span=\"1\" style=\"width: 12%;\">\n",
       "        <col span=\"1\" style=\"width: 12%;\">\n",
       "        <col span=\"1\" style=\"min-width: 94px;\">\n",
       "        <col span=\"1\" style=\"width: 24%;\">\n",
       "      </colgroup>\n",
       "      <thead>\n",
       "        <tr>\n",
       "          <td> Type </td>\n",
       "          <td > Date </td>\n",
       "          <td> Title </td>\n",
       "          <td> Lecturer </td>\n",
       "        </tr>\n",
       "      </thead>\n",
       "      <tbody>\n",
       "        <tr class=\"syllabus-unit-title\">\n",
       "          <td colspan=\"4\">Unit 0: Overview </td>\n",
       "        </tr>\n",
       "        <tr>\n",
       "          <td> Lecture </td>\n",
       "          <td> Jan 24 </td>\n",
       "          <td> Welcome to SIGAI </td>\n",
       "          <td> <a href=\"https://github.com/ionlights/\"> ionlights </a>, <a href=\"https://github.com/thedibaccle/\"> thedibaccle </a> </td>\n",
       "        </tr>\n",
       "        <tr>\n",
       "          <td> Lecture </td>\n",
       "          <td> Jan 31 </td>\n",
       "          <td> The Central Notion of AI </td>\n",
       "          <td> <a href=\"https://github.com/ionlights/\"> ionlights </a>, <a href=\"https://github.com/thedibaccle/\"> thedibaccle </a> </td>\n",
       "        </tr>\n",
       "        <tr class=\"syllabus-unit-title\">\n",
       "          <td colspan=\"4\">Unit 1: Neural Networks </td>\n",
       "        </tr>\n",
       "        <tr>\n",
       "          <td> Lecture </td>\n",
       "          <td> Feb 07 </td>\n",
       "          <td> An Intro to Neural Networks </td>\n",
       "          <td> <a href=\"https://github.com/ionlights/\"> ionlights </a> </td>\n",
       "        </tr>\n",
       "        <tr>\n",
       "          <td> Lab </td>\n",
       "          <td> Feb 14 </td>\n",
       "          <td> Building an Extensible Neural Network </td>\n",
       "          <td> <a href=\"https://github.com/ionlights/\"> ionlights </a> </td>\n",
       "        </tr>\n",
       "        <tr class=\"syllabus-unit-title\">\n",
       "          <td colspan=\"4\">Unit 2: Convolutional Neural Networks </td>\n",
       "        </tr>\n",
       "        <tr>\n",
       "          <td> Lecture </td>\n",
       "          <td> Feb 21 </td>\n",
       "          <td> Deconvoluting Convolutional Neural Networks </td>\n",
       "          <td> <a href=\"https://github.com/thedibaccle/\"> thedibaccle </a> </td>\n",
       "        </tr>\n",
       "        <tr>\n",
       "          <td> Lab </td>\n",
       "          <td> Feb 28 </td>\n",
       "          <td> Convolving a Neural Network </td>\n",
       "          <td> <a href=\"https://github.com/thedibaccle/\"> thedibaccle </a> </td>\n",
       "        </tr>\n",
       "        <tr>\n",
       "          <td> Lecture </td>\n",
       "          <td> Mar 07 </td>\n",
       "          <td> Guest </td>\n",
       "          <td> [] </td>\n",
       "        </tr>\n",
       "        <tr class=\"syllabus-unit-title\">\n",
       "          <td colspan=\"4\">Unit 3: Recurrent Neural Networks </td>\n",
       "        </tr>\n",
       "        <tr>\n",
       "          <td> Lecture </td>\n",
       "          <td> Mar 21 </td>\n",
       "          <td> Seriously, Neural Networks (RNNs) </td>\n",
       "          <td> <a href=\"https://github.com/ionlights/\"> ionlights </a> </td>\n",
       "        </tr>\n",
       "        <tr>\n",
       "          <td> Lab </td>\n",
       "          <td> Mar 28 </td>\n",
       "          <td> Timely Predictions </td>\n",
       "          <td> <a href=\"https://github.com/ionlights/\"> ionlights </a> </td>\n",
       "        </tr>\n",
       "        <tr class=\"syllabus-unit-title\">\n",
       "          <td colspan=\"4\">Unit 4: Reinforcement Learning </td>\n",
       "        </tr>\n",
       "        <tr>\n",
       "          <td> Lecture </td>\n",
       "          <td> Apr 04 </td>\n",
       "          <td> Can a Machines Learn from Experience? (RL P1) </td>\n",
       "          <td> <a href=\"https://github.com/ionlights/\"> ionlights </a> </td>\n",
       "        </tr>\n",
       "        <tr>\n",
       "          <td> Lecture </td>\n",
       "          <td> Apr 11 </td>\n",
       "          <td> Learning from Experience (RL P2) </td>\n",
       "          <td> <a href=\"https://github.com/thedibaccle/\"> thedibaccle </a> </td>\n",
       "        </tr>\n",
       "        <tr>\n",
       "          <td> Lab </td>\n",
       "          <td> Apr 28 </td>\n",
       "          <td> Building a Markov Decision Process </td>\n",
       "          <td> <a href=\"https://github.com/ionlights/\"> ionlights </a> </td>\n",
       "        </tr>\n",
       "\n",
       "      <tbody>\n",
       "    </table>\n",
       "  </div>\n",
       "</div>\n"
      ],
      "text/plain": [
       "<IPython.core.display.HTML object>"
      ]
     },
     "execution_count": 5,
     "metadata": {},
     "output_type": "execute_result"
    }
   ],
   "source": [
    "HTML(\"syllabus.html\")"
   ]
  }
 ],
 "metadata": {
  "authors": [
   {
    "github": "ionlights",
    "name": "John Muchovej"
   },
   {
    "github": "thedibaccle",
    "name": "Richard DiBacco"
   }
  ],
  "celltoolbar": "Slideshow",
  "kernelspec": {
   "display_name": "Python 3",
   "language": "python",
   "name": "python3"
  },
  "language_info": {
   "codemirror_mode": {
    "name": "ipython",
    "version": 3
   },
   "file_extension": ".py",
   "mimetype": "text/x-python",
   "name": "python",
   "nbconvert_exporter": "python",
   "pygments_lexer": "ipython3",
   "version": "3.5.2"
  },
  "livereveal": {
   "autolaunch": true,
   "footer": "<footer id=\"slide_foot\">\n  <div  id=\"slide_foot-brand\">\n    <span class=\"ucfsigai-brand\"></span>\n  </div>\n  <div  id=\"slide_foot-unit\">\n    <span class=\"text-gold\"> U0: </span>&nbsp;<span class=\"text-white\"> Intros </span>\n  </div>\n  <a    id=\"slide_foot-attend\" href=\"https://goo.gl/\">\n      <span class=\"text-white\"> https://goo.gl/ </span>\n  </a>\n  <div  id=\"slide_foot-date\">\n    <span class=\"text-white\"> Jan 17, 2018 </span>\n  </div>\n</footer>\n",
   "scroll": true
  }
 },
 "nbformat": 4,
 "nbformat_minor": 2
}
