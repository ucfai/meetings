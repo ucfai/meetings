{
 "cells": [
  {
   "cell_type": "markdown",
   "metadata": {},
   "source": [
    "# Building an Extensible Neural Network\n",
    "---"
   ]
  },
  {
   "cell_type": "markdown",
   "metadata": {},
   "source": [
    "Grabbing the necessary imports."
   ]
  },
  {
   "cell_type": "code",
   "execution_count": 1,
   "metadata": {
    "ExecuteTime": {
     "end_time": "2018-02-15T20:07:01.877601Z",
     "start_time": "2018-02-15T20:06:59.918991Z"
    }
   },
   "outputs": [
    {
     "name": "stderr",
     "output_type": "stream",
     "text": [
      "/usr/local/lib/python3.5/dist-packages/h5py/__init__.py:36: FutureWarning: Conversion of the second argument of issubdtype from `float` to `np.floating` is deprecated. In future, it will be treated as `np.float64 == np.dtype(float).type`.\n",
      "  from ._conv import register_converters as _register_converters\n"
     ]
    }
   ],
   "source": [
    "import tensorflow as tf\n",
    "\n",
    "from tensorflow.examples.tutorials.mnist import input_data"
   ]
  },
  {
   "cell_type": "code",
   "execution_count": 2,
   "metadata": {
    "ExecuteTime": {
     "end_time": "2018-02-15T20:07:07.756163Z",
     "start_time": "2018-02-15T20:07:01.880857Z"
    }
   },
   "outputs": [
    {
     "name": "stdout",
     "output_type": "stream",
     "text": [
      "Successfully downloaded train-images-idx3-ubyte.gz 9912422 bytes.\n",
      "Extracting /tmp/tensorflow/mnist/data/train-images-idx3-ubyte.gz\n",
      "Successfully downloaded train-labels-idx1-ubyte.gz 28881 bytes.\n",
      "Extracting /tmp/tensorflow/mnist/data/train-labels-idx1-ubyte.gz\n",
      "Successfully downloaded t10k-images-idx3-ubyte.gz 1648877 bytes.\n",
      "Extracting /tmp/tensorflow/mnist/data/t10k-images-idx3-ubyte.gz\n",
      "Successfully downloaded t10k-labels-idx1-ubyte.gz 4542 bytes.\n",
      "Extracting /tmp/tensorflow/mnist/data/t10k-labels-idx1-ubyte.gz\n"
     ]
    }
   ],
   "source": [
    "LOG_DIR = \"/tmp/tensorflow/mnist/\"\n",
    "DAT_DIR = \"/tmp/tensorflow/mnist/data/\"\n",
    "LRN_RAT = 0.1\n",
    "\n",
    "mnist = input_data.read_data_sets(DAT_DIR, one_hot=True)\n",
    "_epochs = 6\n",
    "BATCHES = 100\n",
    "NXAMPLS = (_epochs * mnist.train.images.shape[0]) // BATCHES"
   ]
  },
  {
   "cell_type": "code",
   "execution_count": 3,
   "metadata": {
    "ExecuteTime": {
     "end_time": "2018-02-15T20:07:07.774494Z",
     "start_time": "2018-02-15T20:07:07.760119Z"
    }
   },
   "outputs": [],
   "source": [
    "if tf.gfile.Exists(LOG_DIR):\n",
    "    tf.gfile.DeleteRecursively(LOG_DIR)\n",
    "tf.gfile.MakeDirs(LOG_DIR)"
   ]
  },
  {
   "cell_type": "code",
   "execution_count": 4,
   "metadata": {
    "ExecuteTime": {
     "end_time": "2018-02-15T20:07:09.348829Z",
     "start_time": "2018-02-15T20:07:09.342305Z"
    }
   },
   "outputs": [],
   "source": [
    "sess = tf.InteractiveSession()"
   ]
  },
  {
   "cell_type": "code",
   "execution_count": 5,
   "metadata": {
    "ExecuteTime": {
     "end_time": "2018-02-15T20:07:12.451212Z",
     "start_time": "2018-02-15T20:07:12.437129Z"
    }
   },
   "outputs": [],
   "source": [
    "with tf.name_scope(\"input\"):\n",
    "    x  = tf.placeholder(tf.float32, [None, 784], name=\"x-input\")\n",
    "    y_ = tf.placeholder(tf.float32, [None,  10], name=\"y-input\")"
   ]
  },
  {
   "cell_type": "code",
   "execution_count": 6,
   "metadata": {
    "ExecuteTime": {
     "end_time": "2018-02-15T20:07:13.673846Z",
     "start_time": "2018-02-15T20:07:13.660029Z"
    }
   },
   "outputs": [],
   "source": [
    "with tf.name_scope(\"input_reshape\"):\n",
    "    img_shape_inp = tf.reshape(x, [-1, 28, 28, 1])\n",
    "    tf.summary.image(\"input\", img_shape_inp, 10)"
   ]
  },
  {
   "cell_type": "code",
   "execution_count": 7,
   "metadata": {
    "ExecuteTime": {
     "end_time": "2018-02-15T20:07:15.327047Z",
     "start_time": "2018-02-15T20:07:15.322310Z"
    }
   },
   "outputs": [],
   "source": [
    "def var_biases(shape):\n",
    "    init = tf.constant(0.1, shape=shape)\n",
    "    return tf.Variable(init)"
   ]
  },
  {
   "cell_type": "code",
   "execution_count": 8,
   "metadata": {
    "ExecuteTime": {
     "end_time": "2018-02-15T20:07:16.907057Z",
     "start_time": "2018-02-15T20:07:16.899520Z"
    }
   },
   "outputs": [],
   "source": [
    "def var_weight(shape):\n",
    "    init = tf.truncated_normal(shape, stddev=pow(shape[0], -0.5))\n",
    "    return tf.Variable(init)"
   ]
  },
  {
   "cell_type": "code",
   "execution_count": 9,
   "metadata": {
    "ExecuteTime": {
     "end_time": "2018-02-15T20:07:19.979878Z",
     "start_time": "2018-02-15T20:07:19.959583Z"
    }
   },
   "outputs": [],
   "source": [
    "def var_summarize(var):\n",
    "    with tf.name_scope(\"summaries\"):\n",
    "        \n",
    "        mean = tf.reduce_mean(var)\n",
    "        tf.summary.scalar(\"mean\", mean)\n",
    "        \n",
    "        with tf.name_scope(\"stddev\"):\n",
    "            stddev = tf.sqrt(tf.reduce_mean(tf.square(var - mean)))\n",
    "        tf.summary.scalar(\"stddev\", stddev)\n",
    "        \n",
    "        tf.summary.scalar(\"max\", tf.reduce_max(var))\n",
    "        tf.summary.scalar(\"min\", tf.reduce_min(var))\n",
    "        \n",
    "        tf.summary.histogram(\"histogram\", var)    "
   ]
  },
  {
   "cell_type": "code",
   "execution_count": 10,
   "metadata": {
    "ExecuteTime": {
     "end_time": "2018-02-15T20:07:22.138007Z",
     "start_time": "2018-02-15T20:07:22.106032Z"
    }
   },
   "outputs": [],
   "source": [
    "def Layer(name, inp_ten, inp_dim, out_dim, act=tf.nn.sigmoid):\n",
    "    with tf.name_scope(name):\n",
    "        \n",
    "        with tf.name_scope(\"weights\"):\n",
    "            weights = var_weight([inp_dim, out_dim])\n",
    "            var_summarize(weights)\n",
    "            \n",
    "#         with tf.name_scope(\"biases\"):\n",
    "#             biases  = var_biases([out_dim])\n",
    "#             var_summarize(biases)\n",
    "            \n",
    "        with tf.name_scope(\"Wx_plus_b\"):\n",
    "            pre_activation = tf.matmul(inp_ten, weights)# + biases\n",
    "            tf.summary.histogram(\"pre_activation\", pre_activation)\n",
    "            \n",
    "        activation = act(pre_activation, name=\"activation\")\n",
    "        tf.summary.histogram(\"activations\", activation)\n",
    "        \n",
    "        return activation"
   ]
  },
  {
   "cell_type": "code",
   "execution_count": 11,
   "metadata": {
    "ExecuteTime": {
     "end_time": "2018-02-15T20:07:23.709850Z",
     "start_time": "2018-02-15T20:07:23.699498Z"
    }
   },
   "outputs": [],
   "source": [
    "def arch_check(nodes):\n",
    "    return len(nodes) >= 2"
   ]
  },
  {
   "cell_type": "code",
   "execution_count": 12,
   "metadata": {
    "ExecuteTime": {
     "end_time": "2018-02-15T20:07:24.571993Z",
     "start_time": "2018-02-15T20:07:24.319965Z"
    },
    "scrolled": false
   },
   "outputs": [],
   "source": [
    "nodes = [784, 200, 200, 200, 10]\n",
    "\n",
    "layers = [x]\n",
    "\n",
    "if arch_check(nodes):\n",
    "    for idx in range(len(nodes) - 2):\n",
    "        name = \"hidden_{}\".format(idx)\n",
    "        prev = layers[idx]\n",
    "        inp_dim = nodes[idx]\n",
    "        out_dim = nodes[idx + 1]\n",
    "        new_lyr = Layer(name, prev, inp_dim, out_dim)\n",
    "        layers.append(new_lyr)\n",
    "\n",
    "    # Do not apply softmax activation yet, see below.\n",
    "    y = Layer(\"output\", layers[-1], nodes[-2], nodes[-1], act=tf.identity)"
   ]
  },
  {
   "cell_type": "code",
   "execution_count": 13,
   "metadata": {
    "ExecuteTime": {
     "end_time": "2018-02-15T20:07:24.900774Z",
     "start_time": "2018-02-15T20:07:24.850051Z"
    }
   },
   "outputs": [
    {
     "data": {
      "text/plain": [
       "<tf.Tensor 'xentropy:0' shape=() dtype=string>"
      ]
     },
     "execution_count": 13,
     "metadata": {},
     "output_type": "execute_result"
    }
   ],
   "source": [
    "with tf.name_scope(\"cross_entropy\"):\n",
    "    diff = tf.nn.softmax_cross_entropy_with_logits(labels=y_, logits=y)\n",
    "    \n",
    "    with tf.name_scope(\"total\"):\n",
    "        xentropy = tf.reduce_mean(diff)\n",
    "        \n",
    "tf.summary.scalar(\"xentropy\", xentropy)"
   ]
  },
  {
   "cell_type": "markdown",
   "metadata": {},
   "source": [
    "https://github.com/tensorflow/tensorflow/blob/r1.4/tensorflow/python/training/gradient_descent.py"
   ]
  },
  {
   "cell_type": "code",
   "execution_count": 14,
   "metadata": {
    "ExecuteTime": {
     "end_time": "2018-02-15T20:07:26.427126Z",
     "start_time": "2018-02-15T20:07:26.378123Z"
    }
   },
   "outputs": [],
   "source": [
    "with tf.name_scope(\"train\"):\n",
    "    train_step = tf.train.GradientDescentOptimizer(LRN_RAT).minimize(xentropy)"
   ]
  },
  {
   "cell_type": "code",
   "execution_count": null,
   "metadata": {},
   "outputs": [],
   "source": [
    "with tf.name_scope(\"accuracy\"):\n",
    "    with tf.name_scope(\"correct_prediction\"):\n",
    "        correct_prediction = tf.equal(tf.argmax(y, 1), tf.argmax(y_, 1))\n",
    "    with tf.name_scope(\"accuracy\"):\n",
    "        accuracy = tf.reduce_mean(tf.cast(correct_prediction, tf.float32))\n",
    "    \n",
    "tf.summary.scalar(\"accuracy\", accuracy)"
   ]
  },
  {
   "cell_type": "code",
   "execution_count": null,
   "metadata": {},
   "outputs": [],
   "source": [
    "merged = tf.summary.merge_all()\n",
    "trn_writer = tf.summary.FileWriter(LOG_DIR + \"train/\", sess.graph)\n",
    "tst_writer = tf.summary.FileWriter(LOG_DIR + \"test/\")\n",
    "tf.global_variables_initializer().run()"
   ]
  },
  {
   "cell_type": "code",
   "execution_count": null,
   "metadata": {},
   "outputs": [],
   "source": [
    "def feed_dict(train):\n",
    "    xs, ys = mnist.train.next_batch(BATCHES) if train else (mnist.test.images, mnist.test.labels)\n",
    "    \n",
    "    return {x: xs, y_: ys}"
   ]
  },
  {
   "cell_type": "code",
   "execution_count": null,
   "metadata": {
    "scrolled": true
   },
   "outputs": [],
   "source": [
    "for step in range(NXAMPLS):\n",
    "    if step % 10 == 0:\n",
    "        summary, acc = sess.run([merged, accuracy], feed_dict=feed_dict(False))\n",
    "        tst_writer.add_summary(summary, step)\n",
    "#         print(\"Accuracy at step {}: {}\".format(step, acc))\n",
    "    else:\n",
    "        if step % 100 == 99:\n",
    "            run_opts = tf.RunOptions(trace_level=tf.RunOptions.FULL_TRACE)\n",
    "            run_meta = tf.RunMetadata()\n",
    "            summary, _ = sess.run([merged, train_step], feed_dict=feed_dict(True), \n",
    "                                  options=run_opts, run_metadata=run_meta)\n",
    "            trn_writer.add_run_metadata(run_meta, \"step{:03d}\".format(step))\n",
    "            trn_writer.add_summary(summary, step)\n",
    "#             print(\"Adding run metadata for {}\".format(step))\n",
    "        else:\n",
    "            summary, _ = sess.run([merged, train_step], feed_dict=feed_dict(True))\n",
    "            trn_writer.add_summary(summary, step)\n",
    "        \n",
    "trn_writer.close()\n",
    "tst_writer.close()"
   ]
  },
  {
   "cell_type": "code",
   "execution_count": null,
   "metadata": {},
   "outputs": [],
   "source": []
  }
 ],
 "metadata": {
  "authors": [
   {
    "github": "ionlights",
    "name": "John Muchovej"
   }
  ],
  "hide_input": false,
  "kernelspec": {
   "display_name": "Python 3",
   "language": "python",
   "name": "python3"
  },
  "language_info": {
   "codemirror_mode": {
    "name": "ipython",
    "version": 3
   },
   "file_extension": ".py",
   "mimetype": "text/x-python",
   "name": "python",
   "nbconvert_exporter": "python",
   "pygments_lexer": "ipython3",
   "version": "3.5.2"
  },
  "livereveal": {
   "footer": "<footer id=\"slide_foot\">\n  <div  id=\"slide_foot-brand\">\n    <span class=\"ucfsigai-brand\"></span>\n  </div>\n  <div  id=\"slide_foot-unit\">\n    <span class=\"text-gold\"> U1: </span>&nbsp;<span class=\"text-white\"> Neural Networks </span>\n  </div>\n  <a    id=\"slide_foot-attend\" href=\"https://goo.gl/\">\n      <span class=\"text-white\"> https://goo.gl/ </span>\n  </a>\n  <div  id=\"slide_foot-date\">\n    <span class=\"text-white\"> Feb 08, 2018 </span>\n  </div>\n</footer>\n",
   "scroll": true
  }
 },
 "nbformat": 4,
 "nbformat_minor": 2
}
