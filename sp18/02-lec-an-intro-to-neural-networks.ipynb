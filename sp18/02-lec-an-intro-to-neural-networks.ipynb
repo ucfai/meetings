{
 "cells": [
  {
   "cell_type": "code",
   "execution_count": 74,
   "metadata": {},
   "outputs": [
    {
     "data": {
      "text/html": [
       "<script>requirejs.config({paths: { 'plotly': ['https://cdn.plot.ly/plotly-latest.min']},});if(!window.Plotly) {{require(['plotly'],function(plotly) {window.Plotly=plotly;});}}</script>"
      ],
      "text/vnd.plotly.v1+html": [
       "<script>requirejs.config({paths: { 'plotly': ['https://cdn.plot.ly/plotly-latest.min']},});if(!window.Plotly) {{require(['plotly'],function(plotly) {window.Plotly=plotly;});}}</script>"
      ]
     },
     "metadata": {},
     "output_type": "display_data"
    }
   ],
   "source": [
    "from IPython.display import display, HTML\n",
    "\n",
    "import plotly.offline as py\n",
    "# import plotly.plotly as py\n",
    "py.init_notebook_mode(connected=True)\n",
    "import plotly.graph_objs as go\n",
    "\n",
    "import numpy as np\n",
    "\n",
    "import itertools\n",
    "import colorlover as cl"
   ]
  },
  {
   "cell_type": "markdown",
   "metadata": {},
   "source": [
    "# An Intro to Neural Networks\n",
    "---"
   ]
  },
  {
   "cell_type": "code",
   "execution_count": 103,
   "metadata": {},
   "outputs": [
    {
     "data": {
      "application/vnd.plotly.v1+json": {
       "data": [
        {
         "line": {
          "color": "rgb(222,235,247)"
         },
         "showlegend": false,
         "type": "scatter",
         "x": [
          1,
          2,
          null,
          1,
          2,
          null,
          1,
          2,
          null,
          1,
          2,
          null,
          1,
          2,
          null,
          1,
          2,
          null
         ],
         "y": [
          1.5,
          0,
          null,
          1.5,
          1,
          null,
          1.5,
          2,
          null,
          1.5,
          3,
          null,
          1.5,
          4,
          null,
          1.5,
          5,
          null
         ]
        },
        {
         "line": {
          "color": "rgb(158,202,225)"
         },
         "showlegend": false,
         "type": "scatter",
         "x": [
          1,
          2,
          null,
          1,
          2,
          null,
          1,
          2,
          null,
          1,
          2,
          null,
          1,
          2,
          null,
          1,
          2,
          null
         ],
         "y": [
          2.5,
          0,
          null,
          2.5,
          1,
          null,
          2.5,
          2,
          null,
          2.5,
          3,
          null,
          2.5,
          4,
          null,
          2.5,
          5,
          null
         ]
        },
        {
         "line": {
          "color": "rgb(49,130,189)"
         },
         "showlegend": false,
         "type": "scatter",
         "x": [
          1,
          2,
          null,
          1,
          2,
          null,
          1,
          2,
          null,
          1,
          2,
          null,
          1,
          2,
          null,
          1,
          2,
          null
         ],
         "y": [
          3.5,
          0,
          null,
          3.5,
          1,
          null,
          3.5,
          2,
          null,
          3.5,
          3,
          null,
          3.5,
          4,
          null,
          3.5,
          5,
          null
         ]
        },
        {
         "line": {
          "color": "rgb(254,229,217)"
         },
         "showlegend": false,
         "type": "scatter",
         "x": [
          2,
          3,
          null,
          2,
          3,
          null,
          2,
          3,
          null,
          2,
          3,
          null,
          2,
          3,
          null
         ],
         "y": [
          0,
          0.5,
          null,
          0,
          1.5,
          null,
          0,
          2.5,
          null,
          0,
          3.5,
          null,
          0,
          4.5,
          null
         ]
        },
        {
         "line": {
          "color": "rgb(252,187,161)"
         },
         "showlegend": false,
         "type": "scatter",
         "x": [
          2,
          3,
          null,
          2,
          3,
          null,
          2,
          3,
          null,
          2,
          3,
          null,
          2,
          3,
          null
         ],
         "y": [
          1,
          0.5,
          null,
          1,
          1.5,
          null,
          1,
          2.5,
          null,
          1,
          3.5,
          null,
          1,
          4.5,
          null
         ]
        },
        {
         "line": {
          "color": "rgb(252,146,114)"
         },
         "showlegend": false,
         "type": "scatter",
         "x": [
          2,
          3,
          null,
          2,
          3,
          null,
          2,
          3,
          null,
          2,
          3,
          null,
          2,
          3,
          null
         ],
         "y": [
          2,
          0.5,
          null,
          2,
          1.5,
          null,
          2,
          2.5,
          null,
          2,
          3.5,
          null,
          2,
          4.5,
          null
         ]
        },
        {
         "line": {
          "color": "rgb(251,106,74)"
         },
         "showlegend": false,
         "type": "scatter",
         "x": [
          2,
          3,
          null,
          2,
          3,
          null,
          2,
          3,
          null,
          2,
          3,
          null,
          2,
          3,
          null
         ],
         "y": [
          3,
          0.5,
          null,
          3,
          1.5,
          null,
          3,
          2.5,
          null,
          3,
          3.5,
          null,
          3,
          4.5,
          null
         ]
        },
        {
         "line": {
          "color": "rgb(222,45,38)"
         },
         "showlegend": false,
         "type": "scatter",
         "x": [
          2,
          3,
          null,
          2,
          3,
          null,
          2,
          3,
          null,
          2,
          3,
          null,
          2,
          3,
          null
         ],
         "y": [
          4,
          0.5,
          null,
          4,
          1.5,
          null,
          4,
          2.5,
          null,
          4,
          3.5,
          null,
          4,
          4.5,
          null
         ]
        },
        {
         "line": {
          "color": "rgb(165,15,21)"
         },
         "showlegend": false,
         "type": "scatter",
         "x": [
          2,
          3,
          null,
          2,
          3,
          null,
          2,
          3,
          null,
          2,
          3,
          null,
          2,
          3,
          null
         ],
         "y": [
          5,
          0.5,
          null,
          5,
          1.5,
          null,
          5,
          2.5,
          null,
          5,
          3.5,
          null,
          5,
          4.5,
          null
         ]
        },
        {
         "line": {
          "color": "rgb(237,248,233)"
         },
         "showlegend": false,
         "type": "scatter",
         "x": [
          3,
          4,
          null,
          3,
          4,
          null,
          3,
          4,
          null
         ],
         "y": [
          0.5,
          1.5,
          null,
          0.5,
          2.5,
          null,
          0.5,
          3.5,
          null
         ]
        },
        {
         "line": {
          "color": "rgb(186,228,179)"
         },
         "showlegend": false,
         "type": "scatter",
         "x": [
          3,
          4,
          null,
          3,
          4,
          null,
          3,
          4,
          null
         ],
         "y": [
          1.5,
          1.5,
          null,
          1.5,
          2.5,
          null,
          1.5,
          3.5,
          null
         ]
        },
        {
         "line": {
          "color": "rgb(116,196,118)"
         },
         "showlegend": false,
         "type": "scatter",
         "x": [
          3,
          4,
          null,
          3,
          4,
          null,
          3,
          4,
          null
         ],
         "y": [
          2.5,
          1.5,
          null,
          2.5,
          2.5,
          null,
          2.5,
          3.5,
          null
         ]
        },
        {
         "line": {
          "color": "rgb(49,163,84)"
         },
         "showlegend": false,
         "type": "scatter",
         "x": [
          3,
          4,
          null,
          3,
          4,
          null,
          3,
          4,
          null
         ],
         "y": [
          3.5,
          1.5,
          null,
          3.5,
          2.5,
          null,
          3.5,
          3.5,
          null
         ]
        },
        {
         "line": {
          "color": "rgb(0,109,44)"
         },
         "showlegend": false,
         "type": "scatter",
         "x": [
          3,
          4,
          null,
          3,
          4,
          null,
          3,
          4,
          null
         ],
         "y": [
          4.5,
          1.5,
          null,
          4.5,
          2.5,
          null,
          4.5,
          3.5,
          null
         ]
        },
        {
         "marker": {
          "color": "rgb(27,158,119)",
          "line": {
           "width": 2
          },
          "size": 40
         },
         "mode": "markers",
         "name": "input",
         "type": "scatter",
         "x": [
          1,
          1,
          1
         ],
         "y": [
          1.5,
          2.5,
          3.5
         ]
        },
        {
         "marker": {
          "color": "rgb(217,95,2)",
          "line": {
           "width": 2
          },
          "size": 40
         },
         "mode": "markers",
         "name": "hidden1",
         "type": "scatter",
         "x": [
          2,
          2,
          2,
          2,
          2,
          2
         ],
         "y": [
          0,
          1,
          2,
          3,
          4,
          5
         ]
        },
        {
         "marker": {
          "color": "rgb(117,112,179)",
          "line": {
           "width": 2
          },
          "size": 40
         },
         "mode": "markers",
         "name": "hidden2",
         "type": "scatter",
         "x": [
          3,
          3,
          3,
          3,
          3
         ],
         "y": [
          0.5,
          1.5,
          2.5,
          3.5,
          4.5
         ]
        },
        {
         "marker": {
          "color": "rgb(231,41,138)",
          "line": {
           "width": 2
          },
          "size": 40
         },
         "mode": "markers",
         "name": "output",
         "type": "scatter",
         "x": [
          4,
          4,
          4
         ],
         "y": [
          1.5,
          2.5,
          3.5
         ]
        }
       ],
       "layout": {
        "hovermode": false,
        "title": "Stepping through a Neural Network",
        "xaxis": {
         "autotick": true,
         "showgrid": false,
         "showticklabels": false,
         "ticks": "",
         "zeroline": false
        },
        "yaxis": {
         "autotick": true,
         "showgrid": false,
         "showticklabels": false,
         "ticks": "",
         "zeroline": false
        }
       }
      },
      "text/html": [
       "<div id=\"bbab5527-b9e9-40b0-be20-ffff4af98943\" style=\"height: 525px; width: 100%;\" class=\"plotly-graph-div\"></div><script type=\"text/javascript\">require([\"plotly\"], function(Plotly) { window.PLOTLYENV=window.PLOTLYENV || {};window.PLOTLYENV.BASE_URL=\"https://plot.ly\";Plotly.newPlot(\"bbab5527-b9e9-40b0-be20-ffff4af98943\", [{\"showlegend\": false, \"x\": [1, 2, null, 1, 2, null, 1, 2, null, 1, 2, null, 1, 2, null, 1, 2, null], \"type\": \"scatter\", \"y\": [1.5, 0.0, null, 1.5, 1.0, null, 1.5, 2.0, null, 1.5, 3.0, null, 1.5, 4.0, null, 1.5, 5.0, null], \"line\": {\"color\": \"rgb(222,235,247)\"}}, {\"showlegend\": false, \"x\": [1, 2, null, 1, 2, null, 1, 2, null, 1, 2, null, 1, 2, null, 1, 2, null], \"type\": \"scatter\", \"y\": [2.5, 0.0, null, 2.5, 1.0, null, 2.5, 2.0, null, 2.5, 3.0, null, 2.5, 4.0, null, 2.5, 5.0, null], \"line\": {\"color\": \"rgb(158,202,225)\"}}, {\"showlegend\": false, \"x\": [1, 2, null, 1, 2, null, 1, 2, null, 1, 2, null, 1, 2, null, 1, 2, null], \"type\": \"scatter\", \"y\": [3.5, 0.0, null, 3.5, 1.0, null, 3.5, 2.0, null, 3.5, 3.0, null, 3.5, 4.0, null, 3.5, 5.0, null], \"line\": {\"color\": \"rgb(49,130,189)\"}}, {\"showlegend\": false, \"x\": [2, 3, null, 2, 3, null, 2, 3, null, 2, 3, null, 2, 3, null], \"type\": \"scatter\", \"y\": [0.0, 0.5, null, 0.0, 1.5, null, 0.0, 2.5, null, 0.0, 3.5, null, 0.0, 4.5, null], \"line\": {\"color\": \"rgb(254,229,217)\"}}, {\"showlegend\": false, \"x\": [2, 3, null, 2, 3, null, 2, 3, null, 2, 3, null, 2, 3, null], \"type\": \"scatter\", \"y\": [1.0, 0.5, null, 1.0, 1.5, null, 1.0, 2.5, null, 1.0, 3.5, null, 1.0, 4.5, null], \"line\": {\"color\": \"rgb(252,187,161)\"}}, {\"showlegend\": false, \"x\": [2, 3, null, 2, 3, null, 2, 3, null, 2, 3, null, 2, 3, null], \"type\": \"scatter\", \"y\": [2.0, 0.5, null, 2.0, 1.5, null, 2.0, 2.5, null, 2.0, 3.5, null, 2.0, 4.5, null], \"line\": {\"color\": \"rgb(252,146,114)\"}}, {\"showlegend\": false, \"x\": [2, 3, null, 2, 3, null, 2, 3, null, 2, 3, null, 2, 3, null], \"type\": \"scatter\", \"y\": [3.0, 0.5, null, 3.0, 1.5, null, 3.0, 2.5, null, 3.0, 3.5, null, 3.0, 4.5, null], \"line\": {\"color\": \"rgb(251,106,74)\"}}, {\"showlegend\": false, \"x\": [2, 3, null, 2, 3, null, 2, 3, null, 2, 3, null, 2, 3, null], \"type\": \"scatter\", \"y\": [4.0, 0.5, null, 4.0, 1.5, null, 4.0, 2.5, null, 4.0, 3.5, null, 4.0, 4.5, null], \"line\": {\"color\": \"rgb(222,45,38)\"}}, {\"showlegend\": false, \"x\": [2, 3, null, 2, 3, null, 2, 3, null, 2, 3, null, 2, 3, null], \"type\": \"scatter\", \"y\": [5.0, 0.5, null, 5.0, 1.5, null, 5.0, 2.5, null, 5.0, 3.5, null, 5.0, 4.5, null], \"line\": {\"color\": \"rgb(165,15,21)\"}}, {\"showlegend\": false, \"x\": [3, 4, null, 3, 4, null, 3, 4, null], \"type\": \"scatter\", \"y\": [0.5, 1.5, null, 0.5, 2.5, null, 0.5, 3.5, null], \"line\": {\"color\": \"rgb(237,248,233)\"}}, {\"showlegend\": false, \"x\": [3, 4, null, 3, 4, null, 3, 4, null], \"type\": \"scatter\", \"y\": [1.5, 1.5, null, 1.5, 2.5, null, 1.5, 3.5, null], \"line\": {\"color\": \"rgb(186,228,179)\"}}, {\"showlegend\": false, \"x\": [3, 4, null, 3, 4, null, 3, 4, null], \"type\": \"scatter\", \"y\": [2.5, 1.5, null, 2.5, 2.5, null, 2.5, 3.5, null], \"line\": {\"color\": \"rgb(116,196,118)\"}}, {\"showlegend\": false, \"x\": [3, 4, null, 3, 4, null, 3, 4, null], \"type\": \"scatter\", \"y\": [3.5, 1.5, null, 3.5, 2.5, null, 3.5, 3.5, null], \"line\": {\"color\": \"rgb(49,163,84)\"}}, {\"showlegend\": false, \"x\": [3, 4, null, 3, 4, null, 3, 4, null], \"type\": \"scatter\", \"y\": [4.5, 1.5, null, 4.5, 2.5, null, 4.5, 3.5, null], \"line\": {\"color\": \"rgb(0,109,44)\"}}, {\"type\": \"scatter\", \"name\": \"input\", \"mode\": \"markers\", \"x\": [1, 1, 1], \"marker\": {\"color\": \"rgb(27,158,119)\", \"line\": {\"width\": 2}, \"size\": 40}, \"y\": [1.5, 2.5, 3.5]}, {\"type\": \"scatter\", \"name\": \"hidden1\", \"mode\": \"markers\", \"x\": [2, 2, 2, 2, 2, 2], \"marker\": {\"color\": \"rgb(217,95,2)\", \"line\": {\"width\": 2}, \"size\": 40}, \"y\": [0.0, 1.0, 2.0, 3.0, 4.0, 5.0]}, {\"type\": \"scatter\", \"name\": \"hidden2\", \"mode\": \"markers\", \"x\": [3, 3, 3, 3, 3], \"marker\": {\"color\": \"rgb(117,112,179)\", \"line\": {\"width\": 2}, \"size\": 40}, \"y\": [0.5, 1.5, 2.5, 3.5, 4.5]}, {\"type\": \"scatter\", \"name\": \"output\", \"mode\": \"markers\", \"x\": [4, 4, 4], \"marker\": {\"color\": \"rgb(231,41,138)\", \"line\": {\"width\": 2}, \"size\": 40}, \"y\": [1.5, 2.5, 3.5]}], {\"title\": \"Stepping through a Neural Network\", \"xaxis\": {\"ticks\": \"\", \"zeroline\": false, \"showticklabels\": false, \"autotick\": true, \"showgrid\": false}, \"hovermode\": false, \"yaxis\": {\"ticks\": \"\", \"zeroline\": false, \"showticklabels\": false, \"autotick\": true, \"showgrid\": false}}, {\"linkText\": \"Export to plot.ly\", \"showLink\": true})});</script>"
      ],
      "text/vnd.plotly.v1+html": [
       "<div id=\"bbab5527-b9e9-40b0-be20-ffff4af98943\" style=\"height: 525px; width: 100%;\" class=\"plotly-graph-div\"></div><script type=\"text/javascript\">require([\"plotly\"], function(Plotly) { window.PLOTLYENV=window.PLOTLYENV || {};window.PLOTLYENV.BASE_URL=\"https://plot.ly\";Plotly.newPlot(\"bbab5527-b9e9-40b0-be20-ffff4af98943\", [{\"showlegend\": false, \"x\": [1, 2, null, 1, 2, null, 1, 2, null, 1, 2, null, 1, 2, null, 1, 2, null], \"type\": \"scatter\", \"y\": [1.5, 0.0, null, 1.5, 1.0, null, 1.5, 2.0, null, 1.5, 3.0, null, 1.5, 4.0, null, 1.5, 5.0, null], \"line\": {\"color\": \"rgb(222,235,247)\"}}, {\"showlegend\": false, \"x\": [1, 2, null, 1, 2, null, 1, 2, null, 1, 2, null, 1, 2, null, 1, 2, null], \"type\": \"scatter\", \"y\": [2.5, 0.0, null, 2.5, 1.0, null, 2.5, 2.0, null, 2.5, 3.0, null, 2.5, 4.0, null, 2.5, 5.0, null], \"line\": {\"color\": \"rgb(158,202,225)\"}}, {\"showlegend\": false, \"x\": [1, 2, null, 1, 2, null, 1, 2, null, 1, 2, null, 1, 2, null, 1, 2, null], \"type\": \"scatter\", \"y\": [3.5, 0.0, null, 3.5, 1.0, null, 3.5, 2.0, null, 3.5, 3.0, null, 3.5, 4.0, null, 3.5, 5.0, null], \"line\": {\"color\": \"rgb(49,130,189)\"}}, {\"showlegend\": false, \"x\": [2, 3, null, 2, 3, null, 2, 3, null, 2, 3, null, 2, 3, null], \"type\": \"scatter\", \"y\": [0.0, 0.5, null, 0.0, 1.5, null, 0.0, 2.5, null, 0.0, 3.5, null, 0.0, 4.5, null], \"line\": {\"color\": \"rgb(254,229,217)\"}}, {\"showlegend\": false, \"x\": [2, 3, null, 2, 3, null, 2, 3, null, 2, 3, null, 2, 3, null], \"type\": \"scatter\", \"y\": [1.0, 0.5, null, 1.0, 1.5, null, 1.0, 2.5, null, 1.0, 3.5, null, 1.0, 4.5, null], \"line\": {\"color\": \"rgb(252,187,161)\"}}, {\"showlegend\": false, \"x\": [2, 3, null, 2, 3, null, 2, 3, null, 2, 3, null, 2, 3, null], \"type\": \"scatter\", \"y\": [2.0, 0.5, null, 2.0, 1.5, null, 2.0, 2.5, null, 2.0, 3.5, null, 2.0, 4.5, null], \"line\": {\"color\": \"rgb(252,146,114)\"}}, {\"showlegend\": false, \"x\": [2, 3, null, 2, 3, null, 2, 3, null, 2, 3, null, 2, 3, null], \"type\": \"scatter\", \"y\": [3.0, 0.5, null, 3.0, 1.5, null, 3.0, 2.5, null, 3.0, 3.5, null, 3.0, 4.5, null], \"line\": {\"color\": \"rgb(251,106,74)\"}}, {\"showlegend\": false, \"x\": [2, 3, null, 2, 3, null, 2, 3, null, 2, 3, null, 2, 3, null], \"type\": \"scatter\", \"y\": [4.0, 0.5, null, 4.0, 1.5, null, 4.0, 2.5, null, 4.0, 3.5, null, 4.0, 4.5, null], \"line\": {\"color\": \"rgb(222,45,38)\"}}, {\"showlegend\": false, \"x\": [2, 3, null, 2, 3, null, 2, 3, null, 2, 3, null, 2, 3, null], \"type\": \"scatter\", \"y\": [5.0, 0.5, null, 5.0, 1.5, null, 5.0, 2.5, null, 5.0, 3.5, null, 5.0, 4.5, null], \"line\": {\"color\": \"rgb(165,15,21)\"}}, {\"showlegend\": false, \"x\": [3, 4, null, 3, 4, null, 3, 4, null], \"type\": \"scatter\", \"y\": [0.5, 1.5, null, 0.5, 2.5, null, 0.5, 3.5, null], \"line\": {\"color\": \"rgb(237,248,233)\"}}, {\"showlegend\": false, \"x\": [3, 4, null, 3, 4, null, 3, 4, null], \"type\": \"scatter\", \"y\": [1.5, 1.5, null, 1.5, 2.5, null, 1.5, 3.5, null], \"line\": {\"color\": \"rgb(186,228,179)\"}}, {\"showlegend\": false, \"x\": [3, 4, null, 3, 4, null, 3, 4, null], \"type\": \"scatter\", \"y\": [2.5, 1.5, null, 2.5, 2.5, null, 2.5, 3.5, null], \"line\": {\"color\": \"rgb(116,196,118)\"}}, {\"showlegend\": false, \"x\": [3, 4, null, 3, 4, null, 3, 4, null], \"type\": \"scatter\", \"y\": [3.5, 1.5, null, 3.5, 2.5, null, 3.5, 3.5, null], \"line\": {\"color\": \"rgb(49,163,84)\"}}, {\"showlegend\": false, \"x\": [3, 4, null, 3, 4, null, 3, 4, null], \"type\": \"scatter\", \"y\": [4.5, 1.5, null, 4.5, 2.5, null, 4.5, 3.5, null], \"line\": {\"color\": \"rgb(0,109,44)\"}}, {\"type\": \"scatter\", \"name\": \"input\", \"mode\": \"markers\", \"x\": [1, 1, 1], \"marker\": {\"color\": \"rgb(27,158,119)\", \"line\": {\"width\": 2}, \"size\": 40}, \"y\": [1.5, 2.5, 3.5]}, {\"type\": \"scatter\", \"name\": \"hidden1\", \"mode\": \"markers\", \"x\": [2, 2, 2, 2, 2, 2], \"marker\": {\"color\": \"rgb(217,95,2)\", \"line\": {\"width\": 2}, \"size\": 40}, \"y\": [0.0, 1.0, 2.0, 3.0, 4.0, 5.0]}, {\"type\": \"scatter\", \"name\": \"hidden2\", \"mode\": \"markers\", \"x\": [3, 3, 3, 3, 3], \"marker\": {\"color\": \"rgb(117,112,179)\", \"line\": {\"width\": 2}, \"size\": 40}, \"y\": [0.5, 1.5, 2.5, 3.5, 4.5]}, {\"type\": \"scatter\", \"name\": \"output\", \"mode\": \"markers\", \"x\": [4, 4, 4], \"marker\": {\"color\": \"rgb(231,41,138)\", \"line\": {\"width\": 2}, \"size\": 40}, \"y\": [1.5, 2.5, 3.5]}], {\"title\": \"Stepping through a Neural Network\", \"xaxis\": {\"ticks\": \"\", \"zeroline\": false, \"showticklabels\": false, \"autotick\": true, \"showgrid\": false}, \"hovermode\": false, \"yaxis\": {\"ticks\": \"\", \"zeroline\": false, \"showticklabels\": false, \"autotick\": true, \"showgrid\": false}}, {\"linkText\": \"Export to plot.ly\", \"showLink\": true})});</script>"
      ]
     },
     "metadata": {},
     "output_type": "display_data"
    }
   ],
   "source": [
    "def nn_config(color, layer_name):\n",
    "    config = dict(\n",
    "        name   = layer_name,\n",
    "        mode   = \"markers\",\n",
    "        marker = dict(\n",
    "            size  = 40,\n",
    "            line  = dict(width = 2),\n",
    "            color = color\n",
    "        ),\n",
    "    )\n",
    "    return config\n",
    "\n",
    "inpt_n = 3\n",
    "hid1_n = 6\n",
    "hid2_n = 5\n",
    "outp_n = 3\n",
    "\n",
    "layr_n = (inpt_n, hid1_n, hid2_n, outp_n)\n",
    "maxx_n = max(layr_n)\n",
    "\n",
    "inpt_c = 1\n",
    "hid1_c = 1 + inpt_c\n",
    "hid2_c = 1 + hid1_c\n",
    "outp_c = 1 + hid2_c\n",
    "\n",
    "odd_start = (inpt_n % 2 == 1)\n",
    "\n",
    "def gen_x(n, start):\n",
    "    return np.array([start for _ in np.arange(0, n, 1)])\n",
    "\n",
    "def gen_y(n):\n",
    "    start = (maxx_n - n) / 2\n",
    "    return np.array([y for y in np.arange(start, n + start, 1)])\n",
    "\n",
    "nn_cls = cl.scales[\"4\"][\"qual\"][\"Dark2\"]\n",
    "inpt_x = gen_x(inpt_n, inpt_c); inpt_y = gen_y(inpt_n)\n",
    "inpt_l = go.Scatter(nn_config(nn_cls[0], \"input\"),  x=inpt_x, y=inpt_y)\n",
    "\n",
    "hid1_x = gen_x(hid1_n, hid1_c); hid1_y = gen_y(hid1_n)\n",
    "hid1_l = go.Scatter(nn_config(nn_cls[1], \"hidden1\"), x=hid1_x, y=hid1_y)\n",
    "\n",
    "hid2_x = gen_x(hid2_n, hid2_c); hid2_y = gen_y(hid2_n)\n",
    "hid2_l = go.Scatter(nn_config(nn_cls[2], \"hidden2\"), x=hid2_x, y=hid2_y)\n",
    "\n",
    "outp_x = gen_x(outp_n, outp_c); outp_y = gen_y(outp_n)\n",
    "outp_l = go.Scatter(nn_config(nn_cls[3], \"output\"), x=outp_x, y=outp_y)\n",
    "\n",
    "nn = [inpt_l, hid1_l, hid2_l, outp_l,]\n",
    "\n",
    "def gen_connect(x1, x2, n1, n2):\n",
    "    return np.array([\n",
    "        np.array([\n",
    "            [x1[_1], x2[_2], None] for _2 in range(n2)\n",
    "        ]).flatten() for _1 in range(n1)\n",
    "    ])\n",
    "\n",
    "def gen_scatter(x, y, colors, n):\n",
    "    return [\n",
    "        go.Scatter(x = x[_], y = y[_],\n",
    "                   line       = dict(color = colors[_]),\n",
    "                   showlegend = False,\n",
    "        ) for _ in range(n)\n",
    "    ]\n",
    "\n",
    "## input to hidden1 connection\n",
    "in_h1_c = cl.scales[str(inpt_n)][\"seq\"][\"Blues\"]\n",
    "in_h1_x = gen_connect(inpt_x, hid1_x, inpt_n, hid1_n)\n",
    "in_h1_y = gen_connect(inpt_y, hid1_y, inpt_n, hid1_n)\n",
    "in_h1   = gen_scatter(in_h1_x, in_h1_y, in_h1_c, inpt_n)\n",
    "\n",
    "h1_h2_c = cl.scales[str(hid1_n)][\"seq\"][\"Reds\"]\n",
    "h1_h2_x = gen_connect(hid1_x, hid2_x, hid1_n, hid2_n)\n",
    "h1_h2_y = gen_connect(hid1_y, hid2_y, hid1_n, hid2_n)\n",
    "h1_h2   = gen_scatter(h1_h2_x, h1_h2_y, h1_h2_c, hid1_n)\n",
    "\n",
    "h2_ot_c = cl.scales[str(hid2_n)][\"seq\"][\"Greens\"]\n",
    "h2_ot_x = gen_connect(hid2_x, outp_x, hid2_n, outp_n)\n",
    "h2_ot_y = gen_connect(hid2_y, outp_y, hid2_n, outp_n)\n",
    "h2_ot   = gen_scatter(h2_ot_x, h2_ot_y, h2_ot_c, hid2_n)\n",
    "\n",
    "\n",
    "\n",
    "# layout = dict(\n",
    "#     xaxis=dict(range=[xm, xM], autorange=False, zeroline=False),\n",
    "#     yaxis=dict(range=[ym, yM], autorange=False, zeroline=False),\n",
    "#     title='Running Through a Neural Network', hovermode='closest',\n",
    "#     updatemenus= [{'type': 'buttons',\n",
    "#                    'buttons': [{'label': 'Play',\n",
    "#                                 'method': 'animate',\n",
    "#                                 'args': [None]}]}]\n",
    "# )\n",
    "\n",
    "axes_tmpl = dict(\n",
    "    ticks = '',\n",
    "    showgrid = False,\n",
    "    zeroline = False,\n",
    "    autotick = True,\n",
    "    showticklabels = False,\n",
    ")\n",
    "\n",
    "layout = go.Layout(\n",
    "    title = \"Stepping through a Neural Network\",\n",
    "    xaxis = axes_tmpl,\n",
    "    yaxis = axes_tmpl,\n",
    "    hovermode = False,\n",
    ")\n",
    "# frames = [dict(data=[dict(x=[xx[k]],\n",
    "#                           y=[yy[k]],\n",
    "#                           mode='markers', \n",
    "#                           marker=dict(color='red', size=10)\n",
    "#                          )\n",
    "#                     ]) for k in range(N)]    \n",
    "          \n",
    "# figure1 = dict(data=data, layout=layout, frames=frames)          \n",
    "data = in_h1 + h1_h2 + h2_ot + nn\n",
    "py.iplot(go.Figure(data=data, layout=layout))"
   ]
  },
  {
   "cell_type": "code",
   "execution_count": null,
   "metadata": {},
   "outputs": [],
   "source": []
  }
 ],
 "metadata": {
  "authors": [
   {
    "github": "ionlights",
    "name": "John Muchovej"
   }
  ],
  "kernelspec": {
   "display_name": "Python 3",
   "language": "python",
   "name": "python3"
  },
  "language_info": {
   "codemirror_mode": {
    "name": "ipython",
    "version": 3
   },
   "file_extension": ".py",
   "mimetype": "text/x-python",
   "name": "python",
   "nbconvert_exporter": "python",
   "pygments_lexer": "ipython3",
   "version": "3.5.2"
  },
  "livereveal": {
   "autolaunch": true,
   "footer": "<footer id=\"slide_foot\">\n  <div  id=\"slide_foot-brand\">\n    <span class=\"ucfsigai-brand\"></span>\n  </div>\n  <div  id=\"slide_foot-unit\">\n    <span class=\"text-gold\"> U1: </span>&nbsp;<span class=\"text-white\"> Neural Networks </span>\n  </div>\n  <a    id=\"slide_foot-attend\" href=\"https://goo.gl/\">\n      <span class=\"text-white\"> https://goo.gl/ </span>\n  </a>\n  <div  id=\"slide_foot-date\">\n    <span class=\"text-white\"> Jan 31, 2018 </span>\n  </div>\n</footer>\n"
  }
 },
 "nbformat": 4,
 "nbformat_minor": 2
}
