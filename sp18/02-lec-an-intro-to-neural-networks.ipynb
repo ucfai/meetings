{
 "cells": [
  {
   "cell_type": "code",
   "execution_count": 1,
   "metadata": {
    "ExecuteTime": {
     "end_time": "2018-01-14T02:21:32.660312Z",
     "start_time": "2018-01-14T02:21:32.243245Z"
    },
    "scrolled": true,
    "slideshow": {
     "slide_type": "skip"
    }
   },
   "outputs": [
    {
     "data": {
      "text/html": [
       "<script>requirejs.config({paths: { 'plotly': ['https://cdn.plot.ly/plotly-latest.min']},});if(!window.Plotly) {{require(['plotly'],function(plotly) {window.Plotly=plotly;});}}</script>"
      ],
      "text/vnd.plotly.v1+html": [
       "<script>requirejs.config({paths: { 'plotly': ['https://cdn.plot.ly/plotly-latest.min']},});if(!window.Plotly) {{require(['plotly'],function(plotly) {window.Plotly=plotly;});}}</script>"
      ]
     },
     "metadata": {},
     "output_type": "display_data"
    }
   ],
   "source": [
    "from IPython.display import display, HTML\n",
    "\n",
    "%reload_ext autoreload\n",
    "%autoreload 2\n",
    "\n",
    "import plotly.offline as py\n",
    "# import plotly.plotly as py\n",
    "py.init_notebook_mode(connected=True)\n",
    "import plotly.graph_objs as go\n",
    "\n",
    "import numpy as np\n",
    "\n",
    "import itertools\n",
    "import colorlover as cl\n",
    "\n",
    "import os\n",
    "os.chdir(\"..\")"
   ]
  },
  {
   "cell_type": "markdown",
   "metadata": {
    "slideshow": {
     "slide_type": "slide"
    }
   },
   "source": [
    "# An Intro to Neural Networks\n",
    "---"
   ]
  },
  {
   "cell_type": "code",
   "execution_count": 2,
   "metadata": {
    "ExecuteTime": {
     "end_time": "2018-01-14T02:21:34.142444Z",
     "start_time": "2018-01-14T02:21:34.128861Z"
    },
    "cell_style": "center",
    "slideshow": {
     "slide_type": "skip"
    }
   },
   "outputs": [
    {
     "data": {
      "text/html": [
       "<script>requirejs.config({paths: { 'plotly': ['https://cdn.plot.ly/plotly-latest.min']},});if(!window.Plotly) {{require(['plotly'],function(plotly) {window.Plotly=plotly;});}}</script>"
      ],
      "text/vnd.plotly.v1+html": [
       "<script>requirejs.config({paths: { 'plotly': ['https://cdn.plot.ly/plotly-latest.min']},});if(!window.Plotly) {{require(['plotly'],function(plotly) {window.Plotly=plotly;});}}</script>"
      ]
     },
     "metadata": {},
     "output_type": "display_data"
    }
   ],
   "source": [
    "import __admin__.anim.nn as nn"
   ]
  },
  {
   "cell_type": "code",
   "execution_count": 3,
   "metadata": {
    "ExecuteTime": {
     "end_time": "2018-01-14T02:21:39.035571Z",
     "start_time": "2018-01-14T02:21:39.007392Z"
    },
    "cell_style": "center",
    "scrolled": false,
    "slideshow": {
     "slide_type": "slide"
    }
   },
   "outputs": [
    {
     "data": {
      "application/vnd.plotly.v1+json": {
       "data": [
        {
         "line": {
          "color": "rgb(27,158,119)"
         },
         "showlegend": false,
         "type": "scatter",
         "x": [
          0,
          1,
          null,
          0,
          1,
          null,
          0,
          1,
          null,
          0,
          1,
          null,
          0,
          1,
          null,
          0,
          1,
          null
         ],
         "y": [
          1.5,
          0.5,
          null,
          1.5,
          1.5,
          null,
          1.5,
          2.5,
          null,
          1.5,
          3.5,
          null,
          1.5,
          4.5,
          null,
          1.5,
          5.5,
          null
         ]
        },
        {
         "line": {
          "color": "rgb(27,158,119)"
         },
         "showlegend": false,
         "type": "scatter",
         "x": [
          0,
          1,
          null,
          0,
          1,
          null,
          0,
          1,
          null,
          0,
          1,
          null,
          0,
          1,
          null,
          0,
          1,
          null
         ],
         "y": [
          2.5,
          0.5,
          null,
          2.5,
          1.5,
          null,
          2.5,
          2.5,
          null,
          2.5,
          3.5,
          null,
          2.5,
          4.5,
          null,
          2.5,
          5.5,
          null
         ]
        },
        {
         "line": {
          "color": "rgb(27,158,119)"
         },
         "showlegend": false,
         "type": "scatter",
         "x": [
          0,
          1,
          null,
          0,
          1,
          null,
          0,
          1,
          null,
          0,
          1,
          null,
          0,
          1,
          null,
          0,
          1,
          null
         ],
         "y": [
          3.5,
          0.5,
          null,
          3.5,
          1.5,
          null,
          3.5,
          2.5,
          null,
          3.5,
          3.5,
          null,
          3.5,
          4.5,
          null,
          3.5,
          5.5,
          null
         ]
        },
        {
         "line": {
          "color": "rgb(27,158,119)"
         },
         "showlegend": false,
         "type": "scatter",
         "x": [
          0,
          1,
          null,
          0,
          1,
          null,
          0,
          1,
          null,
          0,
          1,
          null,
          0,
          1,
          null,
          0,
          1,
          null
         ],
         "y": [
          4.5,
          0.5,
          null,
          4.5,
          1.5,
          null,
          4.5,
          2.5,
          null,
          4.5,
          3.5,
          null,
          4.5,
          4.5,
          null,
          4.5,
          5.5,
          null
         ]
        },
        {
         "line": {
          "color": "rgb(217,95,2)"
         },
         "showlegend": false,
         "type": "scatter",
         "x": [
          1,
          2,
          null,
          1,
          2,
          null,
          1,
          2,
          null,
          1,
          2,
          null,
          1,
          2,
          null
         ],
         "y": [
          0.5,
          1,
          null,
          0.5,
          2,
          null,
          0.5,
          3,
          null,
          0.5,
          4,
          null,
          0.5,
          5,
          null
         ]
        },
        {
         "line": {
          "color": "rgb(217,95,2)"
         },
         "showlegend": false,
         "type": "scatter",
         "x": [
          1,
          2,
          null,
          1,
          2,
          null,
          1,
          2,
          null,
          1,
          2,
          null,
          1,
          2,
          null
         ],
         "y": [
          1.5,
          1,
          null,
          1.5,
          2,
          null,
          1.5,
          3,
          null,
          1.5,
          4,
          null,
          1.5,
          5,
          null
         ]
        },
        {
         "line": {
          "color": "rgb(217,95,2)"
         },
         "showlegend": false,
         "type": "scatter",
         "x": [
          1,
          2,
          null,
          1,
          2,
          null,
          1,
          2,
          null,
          1,
          2,
          null,
          1,
          2,
          null
         ],
         "y": [
          2.5,
          1,
          null,
          2.5,
          2,
          null,
          2.5,
          3,
          null,
          2.5,
          4,
          null,
          2.5,
          5,
          null
         ]
        },
        {
         "line": {
          "color": "rgb(217,95,2)"
         },
         "showlegend": false,
         "type": "scatter",
         "x": [
          1,
          2,
          null,
          1,
          2,
          null,
          1,
          2,
          null,
          1,
          2,
          null,
          1,
          2,
          null
         ],
         "y": [
          3.5,
          1,
          null,
          3.5,
          2,
          null,
          3.5,
          3,
          null,
          3.5,
          4,
          null,
          3.5,
          5,
          null
         ]
        },
        {
         "line": {
          "color": "rgb(217,95,2)"
         },
         "showlegend": false,
         "type": "scatter",
         "x": [
          1,
          2,
          null,
          1,
          2,
          null,
          1,
          2,
          null,
          1,
          2,
          null,
          1,
          2,
          null
         ],
         "y": [
          4.5,
          1,
          null,
          4.5,
          2,
          null,
          4.5,
          3,
          null,
          4.5,
          4,
          null,
          4.5,
          5,
          null
         ]
        },
        {
         "line": {
          "color": "rgb(217,95,2)"
         },
         "showlegend": false,
         "type": "scatter",
         "x": [
          1,
          2,
          null,
          1,
          2,
          null,
          1,
          2,
          null,
          1,
          2,
          null,
          1,
          2,
          null
         ],
         "y": [
          5.5,
          1,
          null,
          5.5,
          2,
          null,
          5.5,
          3,
          null,
          5.5,
          4,
          null,
          5.5,
          5,
          null
         ]
        },
        {
         "line": {
          "color": "rgb(117,112,179)"
         },
         "showlegend": false,
         "type": "scatter",
         "x": [
          2,
          3,
          null,
          2,
          3,
          null,
          2,
          3,
          null,
          2,
          3,
          null,
          2,
          3,
          null,
          2,
          3,
          null,
          2,
          3,
          null
         ],
         "y": [
          1,
          0,
          null,
          1,
          1,
          null,
          1,
          2,
          null,
          1,
          3,
          null,
          1,
          4,
          null,
          1,
          5,
          null,
          1,
          6,
          null
         ]
        },
        {
         "line": {
          "color": "rgb(117,112,179)"
         },
         "showlegend": false,
         "type": "scatter",
         "x": [
          2,
          3,
          null,
          2,
          3,
          null,
          2,
          3,
          null,
          2,
          3,
          null,
          2,
          3,
          null,
          2,
          3,
          null,
          2,
          3,
          null
         ],
         "y": [
          2,
          0,
          null,
          2,
          1,
          null,
          2,
          2,
          null,
          2,
          3,
          null,
          2,
          4,
          null,
          2,
          5,
          null,
          2,
          6,
          null
         ]
        },
        {
         "line": {
          "color": "rgb(117,112,179)"
         },
         "showlegend": false,
         "type": "scatter",
         "x": [
          2,
          3,
          null,
          2,
          3,
          null,
          2,
          3,
          null,
          2,
          3,
          null,
          2,
          3,
          null,
          2,
          3,
          null,
          2,
          3,
          null
         ],
         "y": [
          3,
          0,
          null,
          3,
          1,
          null,
          3,
          2,
          null,
          3,
          3,
          null,
          3,
          4,
          null,
          3,
          5,
          null,
          3,
          6,
          null
         ]
        },
        {
         "line": {
          "color": "rgb(117,112,179)"
         },
         "showlegend": false,
         "type": "scatter",
         "x": [
          2,
          3,
          null,
          2,
          3,
          null,
          2,
          3,
          null,
          2,
          3,
          null,
          2,
          3,
          null,
          2,
          3,
          null,
          2,
          3,
          null
         ],
         "y": [
          4,
          0,
          null,
          4,
          1,
          null,
          4,
          2,
          null,
          4,
          3,
          null,
          4,
          4,
          null,
          4,
          5,
          null,
          4,
          6,
          null
         ]
        },
        {
         "line": {
          "color": "rgb(117,112,179)"
         },
         "showlegend": false,
         "type": "scatter",
         "x": [
          2,
          3,
          null,
          2,
          3,
          null,
          2,
          3,
          null,
          2,
          3,
          null,
          2,
          3,
          null,
          2,
          3,
          null,
          2,
          3,
          null
         ],
         "y": [
          5,
          0,
          null,
          5,
          1,
          null,
          5,
          2,
          null,
          5,
          3,
          null,
          5,
          4,
          null,
          5,
          5,
          null,
          5,
          6,
          null
         ]
        },
        {
         "line": {
          "color": "rgb(231,41,138)"
         },
         "showlegend": false,
         "type": "scatter",
         "x": [
          3,
          4,
          null,
          3,
          4,
          null,
          3,
          4,
          null,
          3,
          4,
          null
         ],
         "y": [
          0,
          1.5,
          null,
          0,
          2.5,
          null,
          0,
          3.5,
          null,
          0,
          4.5,
          null
         ]
        },
        {
         "line": {
          "color": "rgb(231,41,138)"
         },
         "showlegend": false,
         "type": "scatter",
         "x": [
          3,
          4,
          null,
          3,
          4,
          null,
          3,
          4,
          null,
          3,
          4,
          null
         ],
         "y": [
          1,
          1.5,
          null,
          1,
          2.5,
          null,
          1,
          3.5,
          null,
          1,
          4.5,
          null
         ]
        },
        {
         "line": {
          "color": "rgb(231,41,138)"
         },
         "showlegend": false,
         "type": "scatter",
         "x": [
          3,
          4,
          null,
          3,
          4,
          null,
          3,
          4,
          null,
          3,
          4,
          null
         ],
         "y": [
          2,
          1.5,
          null,
          2,
          2.5,
          null,
          2,
          3.5,
          null,
          2,
          4.5,
          null
         ]
        },
        {
         "line": {
          "color": "rgb(231,41,138)"
         },
         "showlegend": false,
         "type": "scatter",
         "x": [
          3,
          4,
          null,
          3,
          4,
          null,
          3,
          4,
          null,
          3,
          4,
          null
         ],
         "y": [
          3,
          1.5,
          null,
          3,
          2.5,
          null,
          3,
          3.5,
          null,
          3,
          4.5,
          null
         ]
        },
        {
         "line": {
          "color": "rgb(231,41,138)"
         },
         "showlegend": false,
         "type": "scatter",
         "x": [
          3,
          4,
          null,
          3,
          4,
          null,
          3,
          4,
          null,
          3,
          4,
          null
         ],
         "y": [
          4,
          1.5,
          null,
          4,
          2.5,
          null,
          4,
          3.5,
          null,
          4,
          4.5,
          null
         ]
        },
        {
         "line": {
          "color": "rgb(231,41,138)"
         },
         "showlegend": false,
         "type": "scatter",
         "x": [
          3,
          4,
          null,
          3,
          4,
          null,
          3,
          4,
          null,
          3,
          4,
          null
         ],
         "y": [
          5,
          1.5,
          null,
          5,
          2.5,
          null,
          5,
          3.5,
          null,
          5,
          4.5,
          null
         ]
        },
        {
         "line": {
          "color": "rgb(231,41,138)"
         },
         "showlegend": false,
         "type": "scatter",
         "x": [
          3,
          4,
          null,
          3,
          4,
          null,
          3,
          4,
          null,
          3,
          4,
          null
         ],
         "y": [
          6,
          1.5,
          null,
          6,
          2.5,
          null,
          6,
          3.5,
          null,
          6,
          4.5,
          null
         ]
        },
        {
         "marker": {
          "color": "rgb(27,158,119)",
          "line": {
           "width": 2
          },
          "size": 40
         },
         "mode": "markers",
         "name": "input",
         "type": "scatter",
         "x": [
          0,
          0,
          0,
          0
         ],
         "y": [
          1.5,
          2.5,
          3.5,
          4.5
         ]
        },
        {
         "marker": {
          "color": "rgb(217,95,2)",
          "line": {
           "width": 2
          },
          "size": 40
         },
         "mode": "markers",
         "name": "hidden1",
         "type": "scatter",
         "x": [
          1,
          1,
          1,
          1,
          1,
          1
         ],
         "y": [
          0.5,
          1.5,
          2.5,
          3.5,
          4.5,
          5.5
         ]
        },
        {
         "marker": {
          "color": "rgb(117,112,179)",
          "line": {
           "width": 2
          },
          "size": 40
         },
         "mode": "markers",
         "name": "hidden2",
         "type": "scatter",
         "x": [
          2,
          2,
          2,
          2,
          2
         ],
         "y": [
          1,
          2,
          3,
          4,
          5
         ]
        },
        {
         "marker": {
          "color": "rgb(231,41,138)",
          "line": {
           "width": 2
          },
          "size": 40
         },
         "mode": "markers",
         "name": "hidden3",
         "type": "scatter",
         "x": [
          3,
          3,
          3,
          3,
          3,
          3,
          3
         ],
         "y": [
          0,
          1,
          2,
          3,
          4,
          5,
          6
         ]
        },
        {
         "marker": {
          "color": "rgb(102,166,30)",
          "line": {
           "width": 2
          },
          "size": 40
         },
         "mode": "markers",
         "name": "output",
         "type": "scatter",
         "x": [
          4,
          4,
          4,
          4
         ],
         "y": [
          1.5,
          2.5,
          3.5,
          4.5
         ]
        }
       ],
       "layout": {
        "hovermode": false,
        "showlegend": false,
        "title": "Stepping through a Neural Network",
        "xaxis": {
         "autotick": true,
         "showgrid": false,
         "showticklabels": false,
         "ticks": "",
         "zeroline": false
        },
        "yaxis": {
         "autotick": true,
         "showgrid": false,
         "showticklabels": false,
         "ticks": "",
         "zeroline": false
        }
       }
      },
      "text/html": [
       "<div id=\"2ba74fac-b082-4994-8a5e-a4a368f5d4b1\" style=\"height: 525px; width: 100%;\" class=\"plotly-graph-div\"></div><script type=\"text/javascript\">require([\"plotly\"], function(Plotly) { window.PLOTLYENV=window.PLOTLYENV || {};window.PLOTLYENV.BASE_URL=\"https://plot.ly\";\n",
       "        Plotly.plot(\n",
       "            '2ba74fac-b082-4994-8a5e-a4a368f5d4b1',\n",
       "            [{\"y\": [1.5, 0.5, null, 1.5, 1.5, null, 1.5, 2.5, null, 1.5, 3.5, null, 1.5, 4.5, null, 1.5, 5.5, null], \"type\": \"scatter\", \"line\": {\"color\": \"rgb(27,158,119)\"}, \"x\": [0, 1, null, 0, 1, null, 0, 1, null, 0, 1, null, 0, 1, null, 0, 1, null], \"showlegend\": false}, {\"y\": [2.5, 0.5, null, 2.5, 1.5, null, 2.5, 2.5, null, 2.5, 3.5, null, 2.5, 4.5, null, 2.5, 5.5, null], \"type\": \"scatter\", \"line\": {\"color\": \"rgb(27,158,119)\"}, \"x\": [0, 1, null, 0, 1, null, 0, 1, null, 0, 1, null, 0, 1, null, 0, 1, null], \"showlegend\": false}, {\"y\": [3.5, 0.5, null, 3.5, 1.5, null, 3.5, 2.5, null, 3.5, 3.5, null, 3.5, 4.5, null, 3.5, 5.5, null], \"type\": \"scatter\", \"line\": {\"color\": \"rgb(27,158,119)\"}, \"x\": [0, 1, null, 0, 1, null, 0, 1, null, 0, 1, null, 0, 1, null, 0, 1, null], \"showlegend\": false}, {\"y\": [4.5, 0.5, null, 4.5, 1.5, null, 4.5, 2.5, null, 4.5, 3.5, null, 4.5, 4.5, null, 4.5, 5.5, null], \"type\": \"scatter\", \"line\": {\"color\": \"rgb(27,158,119)\"}, \"x\": [0, 1, null, 0, 1, null, 0, 1, null, 0, 1, null, 0, 1, null, 0, 1, null], \"showlegend\": false}, {\"y\": [0.5, 1.0, null, 0.5, 2.0, null, 0.5, 3.0, null, 0.5, 4.0, null, 0.5, 5.0, null], \"type\": \"scatter\", \"line\": {\"color\": \"rgb(217,95,2)\"}, \"x\": [1, 2, null, 1, 2, null, 1, 2, null, 1, 2, null, 1, 2, null], \"showlegend\": false}, {\"y\": [1.5, 1.0, null, 1.5, 2.0, null, 1.5, 3.0, null, 1.5, 4.0, null, 1.5, 5.0, null], \"type\": \"scatter\", \"line\": {\"color\": \"rgb(217,95,2)\"}, \"x\": [1, 2, null, 1, 2, null, 1, 2, null, 1, 2, null, 1, 2, null], \"showlegend\": false}, {\"y\": [2.5, 1.0, null, 2.5, 2.0, null, 2.5, 3.0, null, 2.5, 4.0, null, 2.5, 5.0, null], \"type\": \"scatter\", \"line\": {\"color\": \"rgb(217,95,2)\"}, \"x\": [1, 2, null, 1, 2, null, 1, 2, null, 1, 2, null, 1, 2, null], \"showlegend\": false}, {\"y\": [3.5, 1.0, null, 3.5, 2.0, null, 3.5, 3.0, null, 3.5, 4.0, null, 3.5, 5.0, null], \"type\": \"scatter\", \"line\": {\"color\": \"rgb(217,95,2)\"}, \"x\": [1, 2, null, 1, 2, null, 1, 2, null, 1, 2, null, 1, 2, null], \"showlegend\": false}, {\"y\": [4.5, 1.0, null, 4.5, 2.0, null, 4.5, 3.0, null, 4.5, 4.0, null, 4.5, 5.0, null], \"type\": \"scatter\", \"line\": {\"color\": \"rgb(217,95,2)\"}, \"x\": [1, 2, null, 1, 2, null, 1, 2, null, 1, 2, null, 1, 2, null], \"showlegend\": false}, {\"y\": [5.5, 1.0, null, 5.5, 2.0, null, 5.5, 3.0, null, 5.5, 4.0, null, 5.5, 5.0, null], \"type\": \"scatter\", \"line\": {\"color\": \"rgb(217,95,2)\"}, \"x\": [1, 2, null, 1, 2, null, 1, 2, null, 1, 2, null, 1, 2, null], \"showlegend\": false}, {\"y\": [1.0, 0.0, null, 1.0, 1.0, null, 1.0, 2.0, null, 1.0, 3.0, null, 1.0, 4.0, null, 1.0, 5.0, null, 1.0, 6.0, null], \"type\": \"scatter\", \"line\": {\"color\": \"rgb(117,112,179)\"}, \"x\": [2, 3, null, 2, 3, null, 2, 3, null, 2, 3, null, 2, 3, null, 2, 3, null, 2, 3, null], \"showlegend\": false}, {\"y\": [2.0, 0.0, null, 2.0, 1.0, null, 2.0, 2.0, null, 2.0, 3.0, null, 2.0, 4.0, null, 2.0, 5.0, null, 2.0, 6.0, null], \"type\": \"scatter\", \"line\": {\"color\": \"rgb(117,112,179)\"}, \"x\": [2, 3, null, 2, 3, null, 2, 3, null, 2, 3, null, 2, 3, null, 2, 3, null, 2, 3, null], \"showlegend\": false}, {\"y\": [3.0, 0.0, null, 3.0, 1.0, null, 3.0, 2.0, null, 3.0, 3.0, null, 3.0, 4.0, null, 3.0, 5.0, null, 3.0, 6.0, null], \"type\": \"scatter\", \"line\": {\"color\": \"rgb(117,112,179)\"}, \"x\": [2, 3, null, 2, 3, null, 2, 3, null, 2, 3, null, 2, 3, null, 2, 3, null, 2, 3, null], \"showlegend\": false}, {\"y\": [4.0, 0.0, null, 4.0, 1.0, null, 4.0, 2.0, null, 4.0, 3.0, null, 4.0, 4.0, null, 4.0, 5.0, null, 4.0, 6.0, null], \"type\": \"scatter\", \"line\": {\"color\": \"rgb(117,112,179)\"}, \"x\": [2, 3, null, 2, 3, null, 2, 3, null, 2, 3, null, 2, 3, null, 2, 3, null, 2, 3, null], \"showlegend\": false}, {\"y\": [5.0, 0.0, null, 5.0, 1.0, null, 5.0, 2.0, null, 5.0, 3.0, null, 5.0, 4.0, null, 5.0, 5.0, null, 5.0, 6.0, null], \"type\": \"scatter\", \"line\": {\"color\": \"rgb(117,112,179)\"}, \"x\": [2, 3, null, 2, 3, null, 2, 3, null, 2, 3, null, 2, 3, null, 2, 3, null, 2, 3, null], \"showlegend\": false}, {\"y\": [0.0, 1.5, null, 0.0, 2.5, null, 0.0, 3.5, null, 0.0, 4.5, null], \"type\": \"scatter\", \"line\": {\"color\": \"rgb(231,41,138)\"}, \"x\": [3, 4, null, 3, 4, null, 3, 4, null, 3, 4, null], \"showlegend\": false}, {\"y\": [1.0, 1.5, null, 1.0, 2.5, null, 1.0, 3.5, null, 1.0, 4.5, null], \"type\": \"scatter\", \"line\": {\"color\": \"rgb(231,41,138)\"}, \"x\": [3, 4, null, 3, 4, null, 3, 4, null, 3, 4, null], \"showlegend\": false}, {\"y\": [2.0, 1.5, null, 2.0, 2.5, null, 2.0, 3.5, null, 2.0, 4.5, null], \"type\": \"scatter\", \"line\": {\"color\": \"rgb(231,41,138)\"}, \"x\": [3, 4, null, 3, 4, null, 3, 4, null, 3, 4, null], \"showlegend\": false}, {\"y\": [3.0, 1.5, null, 3.0, 2.5, null, 3.0, 3.5, null, 3.0, 4.5, null], \"type\": \"scatter\", \"line\": {\"color\": \"rgb(231,41,138)\"}, \"x\": [3, 4, null, 3, 4, null, 3, 4, null, 3, 4, null], \"showlegend\": false}, {\"y\": [4.0, 1.5, null, 4.0, 2.5, null, 4.0, 3.5, null, 4.0, 4.5, null], \"type\": \"scatter\", \"line\": {\"color\": \"rgb(231,41,138)\"}, \"x\": [3, 4, null, 3, 4, null, 3, 4, null, 3, 4, null], \"showlegend\": false}, {\"y\": [5.0, 1.5, null, 5.0, 2.5, null, 5.0, 3.5, null, 5.0, 4.5, null], \"type\": \"scatter\", \"line\": {\"color\": \"rgb(231,41,138)\"}, \"x\": [3, 4, null, 3, 4, null, 3, 4, null, 3, 4, null], \"showlegend\": false}, {\"y\": [6.0, 1.5, null, 6.0, 2.5, null, 6.0, 3.5, null, 6.0, 4.5, null], \"type\": \"scatter\", \"line\": {\"color\": \"rgb(231,41,138)\"}, \"x\": [3, 4, null, 3, 4, null, 3, 4, null, 3, 4, null], \"showlegend\": false}, {\"y\": [1.5, 2.5, 3.5, 4.5], \"type\": \"scatter\", \"x\": [0, 0, 0, 0], \"marker\": {\"size\": 40, \"color\": \"rgb(27,158,119)\", \"line\": {\"width\": 2}}, \"name\": \"input\", \"mode\": \"markers\"}, {\"y\": [0.5, 1.5, 2.5, 3.5, 4.5, 5.5], \"type\": \"scatter\", \"x\": [1, 1, 1, 1, 1, 1], \"marker\": {\"size\": 40, \"color\": \"rgb(217,95,2)\", \"line\": {\"width\": 2}}, \"name\": \"hidden1\", \"mode\": \"markers\"}, {\"y\": [1.0, 2.0, 3.0, 4.0, 5.0], \"type\": \"scatter\", \"x\": [2, 2, 2, 2, 2], \"marker\": {\"size\": 40, \"color\": \"rgb(117,112,179)\", \"line\": {\"width\": 2}}, \"name\": \"hidden2\", \"mode\": \"markers\"}, {\"y\": [0.0, 1.0, 2.0, 3.0, 4.0, 5.0, 6.0], \"type\": \"scatter\", \"x\": [3, 3, 3, 3, 3, 3, 3], \"marker\": {\"size\": 40, \"color\": \"rgb(231,41,138)\", \"line\": {\"width\": 2}}, \"name\": \"hidden3\", \"mode\": \"markers\"}, {\"y\": [1.5, 2.5, 3.5, 4.5], \"type\": \"scatter\", \"x\": [4, 4, 4, 4], \"marker\": {\"size\": 40, \"color\": \"rgb(102,166,30)\", \"line\": {\"width\": 2}}, \"name\": \"output\", \"mode\": \"markers\"}],\n",
       "            {\"title\": \"Stepping through a Neural Network\", \"xaxis\": {\"showticklabels\": false, \"showgrid\": false, \"zeroline\": false, \"ticks\": \"\", \"autotick\": true}, \"hovermode\": false, \"showlegend\": false, \"yaxis\": {\"showticklabels\": false, \"showgrid\": false, \"zeroline\": false, \"ticks\": \"\", \"autotick\": true}},\n",
       "            {\"showLink\": true, \"linkText\": \"Export to plot.ly\"}\n",
       "        ).then(function () {return Plotly.addFrames('2ba74fac-b082-4994-8a5e-a4a368f5d4b1',[]);}).then(function(){Plotly.animate('2ba74fac-b082-4994-8a5e-a4a368f5d4b1');})\n",
       "        });</script>"
      ],
      "text/vnd.plotly.v1+html": [
       "<div id=\"2ba74fac-b082-4994-8a5e-a4a368f5d4b1\" style=\"height: 525px; width: 100%;\" class=\"plotly-graph-div\"></div><script type=\"text/javascript\">require([\"plotly\"], function(Plotly) { window.PLOTLYENV=window.PLOTLYENV || {};window.PLOTLYENV.BASE_URL=\"https://plot.ly\";\n",
       "        Plotly.plot(\n",
       "            '2ba74fac-b082-4994-8a5e-a4a368f5d4b1',\n",
       "            [{\"y\": [1.5, 0.5, null, 1.5, 1.5, null, 1.5, 2.5, null, 1.5, 3.5, null, 1.5, 4.5, null, 1.5, 5.5, null], \"type\": \"scatter\", \"line\": {\"color\": \"rgb(27,158,119)\"}, \"x\": [0, 1, null, 0, 1, null, 0, 1, null, 0, 1, null, 0, 1, null, 0, 1, null], \"showlegend\": false}, {\"y\": [2.5, 0.5, null, 2.5, 1.5, null, 2.5, 2.5, null, 2.5, 3.5, null, 2.5, 4.5, null, 2.5, 5.5, null], \"type\": \"scatter\", \"line\": {\"color\": \"rgb(27,158,119)\"}, \"x\": [0, 1, null, 0, 1, null, 0, 1, null, 0, 1, null, 0, 1, null, 0, 1, null], \"showlegend\": false}, {\"y\": [3.5, 0.5, null, 3.5, 1.5, null, 3.5, 2.5, null, 3.5, 3.5, null, 3.5, 4.5, null, 3.5, 5.5, null], \"type\": \"scatter\", \"line\": {\"color\": \"rgb(27,158,119)\"}, \"x\": [0, 1, null, 0, 1, null, 0, 1, null, 0, 1, null, 0, 1, null, 0, 1, null], \"showlegend\": false}, {\"y\": [4.5, 0.5, null, 4.5, 1.5, null, 4.5, 2.5, null, 4.5, 3.5, null, 4.5, 4.5, null, 4.5, 5.5, null], \"type\": \"scatter\", \"line\": {\"color\": \"rgb(27,158,119)\"}, \"x\": [0, 1, null, 0, 1, null, 0, 1, null, 0, 1, null, 0, 1, null, 0, 1, null], \"showlegend\": false}, {\"y\": [0.5, 1.0, null, 0.5, 2.0, null, 0.5, 3.0, null, 0.5, 4.0, null, 0.5, 5.0, null], \"type\": \"scatter\", \"line\": {\"color\": \"rgb(217,95,2)\"}, \"x\": [1, 2, null, 1, 2, null, 1, 2, null, 1, 2, null, 1, 2, null], \"showlegend\": false}, {\"y\": [1.5, 1.0, null, 1.5, 2.0, null, 1.5, 3.0, null, 1.5, 4.0, null, 1.5, 5.0, null], \"type\": \"scatter\", \"line\": {\"color\": \"rgb(217,95,2)\"}, \"x\": [1, 2, null, 1, 2, null, 1, 2, null, 1, 2, null, 1, 2, null], \"showlegend\": false}, {\"y\": [2.5, 1.0, null, 2.5, 2.0, null, 2.5, 3.0, null, 2.5, 4.0, null, 2.5, 5.0, null], \"type\": \"scatter\", \"line\": {\"color\": \"rgb(217,95,2)\"}, \"x\": [1, 2, null, 1, 2, null, 1, 2, null, 1, 2, null, 1, 2, null], \"showlegend\": false}, {\"y\": [3.5, 1.0, null, 3.5, 2.0, null, 3.5, 3.0, null, 3.5, 4.0, null, 3.5, 5.0, null], \"type\": \"scatter\", \"line\": {\"color\": \"rgb(217,95,2)\"}, \"x\": [1, 2, null, 1, 2, null, 1, 2, null, 1, 2, null, 1, 2, null], \"showlegend\": false}, {\"y\": [4.5, 1.0, null, 4.5, 2.0, null, 4.5, 3.0, null, 4.5, 4.0, null, 4.5, 5.0, null], \"type\": \"scatter\", \"line\": {\"color\": \"rgb(217,95,2)\"}, \"x\": [1, 2, null, 1, 2, null, 1, 2, null, 1, 2, null, 1, 2, null], \"showlegend\": false}, {\"y\": [5.5, 1.0, null, 5.5, 2.0, null, 5.5, 3.0, null, 5.5, 4.0, null, 5.5, 5.0, null], \"type\": \"scatter\", \"line\": {\"color\": \"rgb(217,95,2)\"}, \"x\": [1, 2, null, 1, 2, null, 1, 2, null, 1, 2, null, 1, 2, null], \"showlegend\": false}, {\"y\": [1.0, 0.0, null, 1.0, 1.0, null, 1.0, 2.0, null, 1.0, 3.0, null, 1.0, 4.0, null, 1.0, 5.0, null, 1.0, 6.0, null], \"type\": \"scatter\", \"line\": {\"color\": \"rgb(117,112,179)\"}, \"x\": [2, 3, null, 2, 3, null, 2, 3, null, 2, 3, null, 2, 3, null, 2, 3, null, 2, 3, null], \"showlegend\": false}, {\"y\": [2.0, 0.0, null, 2.0, 1.0, null, 2.0, 2.0, null, 2.0, 3.0, null, 2.0, 4.0, null, 2.0, 5.0, null, 2.0, 6.0, null], \"type\": \"scatter\", \"line\": {\"color\": \"rgb(117,112,179)\"}, \"x\": [2, 3, null, 2, 3, null, 2, 3, null, 2, 3, null, 2, 3, null, 2, 3, null, 2, 3, null], \"showlegend\": false}, {\"y\": [3.0, 0.0, null, 3.0, 1.0, null, 3.0, 2.0, null, 3.0, 3.0, null, 3.0, 4.0, null, 3.0, 5.0, null, 3.0, 6.0, null], \"type\": \"scatter\", \"line\": {\"color\": \"rgb(117,112,179)\"}, \"x\": [2, 3, null, 2, 3, null, 2, 3, null, 2, 3, null, 2, 3, null, 2, 3, null, 2, 3, null], \"showlegend\": false}, {\"y\": [4.0, 0.0, null, 4.0, 1.0, null, 4.0, 2.0, null, 4.0, 3.0, null, 4.0, 4.0, null, 4.0, 5.0, null, 4.0, 6.0, null], \"type\": \"scatter\", \"line\": {\"color\": \"rgb(117,112,179)\"}, \"x\": [2, 3, null, 2, 3, null, 2, 3, null, 2, 3, null, 2, 3, null, 2, 3, null, 2, 3, null], \"showlegend\": false}, {\"y\": [5.0, 0.0, null, 5.0, 1.0, null, 5.0, 2.0, null, 5.0, 3.0, null, 5.0, 4.0, null, 5.0, 5.0, null, 5.0, 6.0, null], \"type\": \"scatter\", \"line\": {\"color\": \"rgb(117,112,179)\"}, \"x\": [2, 3, null, 2, 3, null, 2, 3, null, 2, 3, null, 2, 3, null, 2, 3, null, 2, 3, null], \"showlegend\": false}, {\"y\": [0.0, 1.5, null, 0.0, 2.5, null, 0.0, 3.5, null, 0.0, 4.5, null], \"type\": \"scatter\", \"line\": {\"color\": \"rgb(231,41,138)\"}, \"x\": [3, 4, null, 3, 4, null, 3, 4, null, 3, 4, null], \"showlegend\": false}, {\"y\": [1.0, 1.5, null, 1.0, 2.5, null, 1.0, 3.5, null, 1.0, 4.5, null], \"type\": \"scatter\", \"line\": {\"color\": \"rgb(231,41,138)\"}, \"x\": [3, 4, null, 3, 4, null, 3, 4, null, 3, 4, null], \"showlegend\": false}, {\"y\": [2.0, 1.5, null, 2.0, 2.5, null, 2.0, 3.5, null, 2.0, 4.5, null], \"type\": \"scatter\", \"line\": {\"color\": \"rgb(231,41,138)\"}, \"x\": [3, 4, null, 3, 4, null, 3, 4, null, 3, 4, null], \"showlegend\": false}, {\"y\": [3.0, 1.5, null, 3.0, 2.5, null, 3.0, 3.5, null, 3.0, 4.5, null], \"type\": \"scatter\", \"line\": {\"color\": \"rgb(231,41,138)\"}, \"x\": [3, 4, null, 3, 4, null, 3, 4, null, 3, 4, null], \"showlegend\": false}, {\"y\": [4.0, 1.5, null, 4.0, 2.5, null, 4.0, 3.5, null, 4.0, 4.5, null], \"type\": \"scatter\", \"line\": {\"color\": \"rgb(231,41,138)\"}, \"x\": [3, 4, null, 3, 4, null, 3, 4, null, 3, 4, null], \"showlegend\": false}, {\"y\": [5.0, 1.5, null, 5.0, 2.5, null, 5.0, 3.5, null, 5.0, 4.5, null], \"type\": \"scatter\", \"line\": {\"color\": \"rgb(231,41,138)\"}, \"x\": [3, 4, null, 3, 4, null, 3, 4, null, 3, 4, null], \"showlegend\": false}, {\"y\": [6.0, 1.5, null, 6.0, 2.5, null, 6.0, 3.5, null, 6.0, 4.5, null], \"type\": \"scatter\", \"line\": {\"color\": \"rgb(231,41,138)\"}, \"x\": [3, 4, null, 3, 4, null, 3, 4, null, 3, 4, null], \"showlegend\": false}, {\"y\": [1.5, 2.5, 3.5, 4.5], \"type\": \"scatter\", \"x\": [0, 0, 0, 0], \"marker\": {\"size\": 40, \"color\": \"rgb(27,158,119)\", \"line\": {\"width\": 2}}, \"name\": \"input\", \"mode\": \"markers\"}, {\"y\": [0.5, 1.5, 2.5, 3.5, 4.5, 5.5], \"type\": \"scatter\", \"x\": [1, 1, 1, 1, 1, 1], \"marker\": {\"size\": 40, \"color\": \"rgb(217,95,2)\", \"line\": {\"width\": 2}}, \"name\": \"hidden1\", \"mode\": \"markers\"}, {\"y\": [1.0, 2.0, 3.0, 4.0, 5.0], \"type\": \"scatter\", \"x\": [2, 2, 2, 2, 2], \"marker\": {\"size\": 40, \"color\": \"rgb(117,112,179)\", \"line\": {\"width\": 2}}, \"name\": \"hidden2\", \"mode\": \"markers\"}, {\"y\": [0.0, 1.0, 2.0, 3.0, 4.0, 5.0, 6.0], \"type\": \"scatter\", \"x\": [3, 3, 3, 3, 3, 3, 3], \"marker\": {\"size\": 40, \"color\": \"rgb(231,41,138)\", \"line\": {\"width\": 2}}, \"name\": \"hidden3\", \"mode\": \"markers\"}, {\"y\": [1.5, 2.5, 3.5, 4.5], \"type\": \"scatter\", \"x\": [4, 4, 4, 4], \"marker\": {\"size\": 40, \"color\": \"rgb(102,166,30)\", \"line\": {\"width\": 2}}, \"name\": \"output\", \"mode\": \"markers\"}],\n",
       "            {\"title\": \"Stepping through a Neural Network\", \"xaxis\": {\"showticklabels\": false, \"showgrid\": false, \"zeroline\": false, \"ticks\": \"\", \"autotick\": true}, \"hovermode\": false, \"showlegend\": false, \"yaxis\": {\"showticklabels\": false, \"showgrid\": false, \"zeroline\": false, \"ticks\": \"\", \"autotick\": true}},\n",
       "            {\"showLink\": true, \"linkText\": \"Export to plot.ly\"}\n",
       "        ).then(function () {return Plotly.addFrames('2ba74fac-b082-4994-8a5e-a4a368f5d4b1',[]);}).then(function(){Plotly.animate('2ba74fac-b082-4994-8a5e-a4a368f5d4b1');})\n",
       "        });</script>"
      ]
     },
     "metadata": {},
     "output_type": "display_data"
    }
   ],
   "source": [
    "py.iplot(nn.network())"
   ]
  },
  {
   "cell_type": "code",
   "execution_count": null,
   "metadata": {},
   "outputs": [],
   "source": []
  }
 ],
 "metadata": {
  "authors": [
   {
    "github": "ionlights",
    "name": "John Muchovej"
   }
  ],
  "celltoolbar": "Slideshow",
  "hide_input": false,
  "kernelspec": {
   "display_name": "Python 3",
   "language": "python",
   "name": "python3"
  },
  "language_info": {
   "codemirror_mode": {
    "name": "ipython",
    "version": 3
   },
   "file_extension": ".py",
   "mimetype": "text/x-python",
   "name": "python",
   "nbconvert_exporter": "python",
   "pygments_lexer": "ipython3",
   "version": "3.5.2"
  },
  "livereveal": {
   "autolaunch": true,
   "footer": "<footer id=\"slide_foot\">\n  <div  id=\"slide_foot-brand\">\n    <span class=\"ucfsigai-brand\"></span>\n  </div>\n  <div  id=\"slide_foot-unit\">\n    <span class=\"text-gold\"> U1: </span>&nbsp;<span class=\"text-white\"> Neural Networks </span>\n  </div>\n  <a    id=\"slide_foot-attend\" href=\"https://goo.gl/\">\n      <span class=\"text-white\"> https://goo.gl/ </span>\n  </a>\n  <div  id=\"slide_foot-date\">\n    <span class=\"text-white\"> Jan 31, 2018 </span>\n  </div>\n</footer>\n"
  }
 },
 "nbformat": 4,
 "nbformat_minor": 2
}
